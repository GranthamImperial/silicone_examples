{
 "cells": [
  {
   "cell_type": "markdown",
   "metadata": {},
   "source": [
    "# Splitting up a Kyoto gas basket\n",
    "This notebook demonstrates two different techniques to divide up the greenhouse gas projections from the Climate Action Tracker project. This reports only the total Kyoto gases. Using crunchers on each of the emissions separately will not produce consistent aggregates. We demonstrate first the DecomposeCollectionTimeDepRatio function, then the technique of using standard infillers for all but one gas (CO$_2$), then setting the CO$_2$ values to equal the leftover quantity. "
   ]
  },
  {
   "cell_type": "markdown",
   "metadata": {},
   "source": [
    "## Importing data and tools\n",
    "This part collects and cleans the data."
   ]
  },
  {
   "cell_type": "code",
   "execution_count": 1,
   "metadata": {},
   "outputs": [
    {
     "data": {
      "application/javascript": [
       "IPython.OutputArea.prototype._should_scroll = function(lines) { return false; }"
      ],
      "text/plain": [
       "<IPython.core.display.Javascript object>"
      ]
     },
     "metadata": {},
     "output_type": "display_data"
    },
    {
     "name": "stderr",
     "output_type": "stream",
     "text": [
      "pyam - INFO: Running in a notebook, setting `pyam` logging level to `logging.INFO` and adding stderr handler\n"
     ]
    }
   ],
   "source": [
    "import os.path\n",
    "\n",
    "import pandas as pd\n",
    "import pyam\n",
    "import matplotlib.pyplot as plt\n",
    "import numpy as np\n",
    "import warnings\n",
    "\n",
    "from silicone.utils import (\n",
    "    download_or_load_sr15,\n",
    "    convert_units_to_MtCO2_equiv,\n",
    "    return_cases_which_consistently_split,\n",
    ")\n",
    "import silicone.multiple_infillers as mi\n",
    "import silicone.database_crunchers as cr"
   ]
  },
  {
   "cell_type": "code",
   "execution_count": 2,
   "metadata": {},
   "outputs": [
    {
     "name": "stderr",
     "output_type": "stream",
     "text": [
      "pyam.core - INFO: Reading file `./../input/complete_sr15.csv`\n"
     ]
    }
   ],
   "source": [
    "input_kyoto_file = \"./../input/DownloadedClimateActionTrackerData.csv\"\n",
    "input_complete_data = \"./../input/complete_sr15.csv\"\n",
    "df = download_or_load_sr15(input_complete_data)\n",
    "# We have to make the columns consistent\n",
    "del df.data[\"meta\"]\n",
    "del df.data[\"subannual\"]\n",
    "df = pyam.IamDataFrame(df.data)"
   ]
  },
  {
   "cell_type": "markdown",
   "metadata": {},
   "source": [
    "We have to format the CVS file to make a pyam dataframe."
   ]
  },
  {
   "cell_type": "code",
   "execution_count": 3,
   "metadata": {},
   "outputs": [
    {
     "data": {
      "text/html": [
       "<div>\n",
       "<style scoped>\n",
       "    .dataframe tbody tr th:only-of-type {\n",
       "        vertical-align: middle;\n",
       "    }\n",
       "\n",
       "    .dataframe tbody tr th {\n",
       "        vertical-align: top;\n",
       "    }\n",
       "\n",
       "    .dataframe thead th {\n",
       "        text-align: right;\n",
       "    }\n",
       "</style>\n",
       "<table border=\"1\" class=\"dataframe\">\n",
       "  <thead>\n",
       "    <tr style=\"text-align: right;\">\n",
       "      <th></th>\n",
       "      <th>level_0</th>\n",
       "      <th>level_1</th>\n",
       "      <th>2010</th>\n",
       "      <th>2011</th>\n",
       "      <th>2012</th>\n",
       "      <th>2013</th>\n",
       "      <th>2014</th>\n",
       "      <th>2015</th>\n",
       "      <th>2016</th>\n",
       "      <th>2017</th>\n",
       "      <th>...</th>\n",
       "      <th>2091</th>\n",
       "      <th>2092</th>\n",
       "      <th>2093</th>\n",
       "      <th>2094</th>\n",
       "      <th>2095</th>\n",
       "      <th>2096</th>\n",
       "      <th>2097</th>\n",
       "      <th>2098</th>\n",
       "      <th>2099</th>\n",
       "      <th>2100</th>\n",
       "    </tr>\n",
       "  </thead>\n",
       "  <tbody>\n",
       "    <tr>\n",
       "      <th>0</th>\n",
       "      <td>AR5 BAU</td>\n",
       "      <td>high</td>\n",
       "      <td>48.96</td>\n",
       "      <td>50.71</td>\n",
       "      <td>52.46</td>\n",
       "      <td>54.21</td>\n",
       "      <td>55.96</td>\n",
       "      <td>57.71</td>\n",
       "      <td>59.46</td>\n",
       "      <td>61.22</td>\n",
       "      <td>...</td>\n",
       "      <td>162.69</td>\n",
       "      <td>164.07</td>\n",
       "      <td>165.46</td>\n",
       "      <td>166.84</td>\n",
       "      <td>168.22</td>\n",
       "      <td>169.61</td>\n",
       "      <td>170.99</td>\n",
       "      <td>172.38</td>\n",
       "      <td>173.76</td>\n",
       "      <td>175.14</td>\n",
       "    </tr>\n",
       "    <tr>\n",
       "      <th>1</th>\n",
       "      <td>AR5 BAU</td>\n",
       "      <td>low</td>\n",
       "      <td>43.80</td>\n",
       "      <td>44.76</td>\n",
       "      <td>45.72</td>\n",
       "      <td>46.68</td>\n",
       "      <td>47.63</td>\n",
       "      <td>48.59</td>\n",
       "      <td>49.55</td>\n",
       "      <td>50.51</td>\n",
       "      <td>...</td>\n",
       "      <td>87.15</td>\n",
       "      <td>86.65</td>\n",
       "      <td>86.15</td>\n",
       "      <td>85.65</td>\n",
       "      <td>85.15</td>\n",
       "      <td>84.65</td>\n",
       "      <td>84.16</td>\n",
       "      <td>83.66</td>\n",
       "      <td>83.16</td>\n",
       "      <td>82.66</td>\n",
       "    </tr>\n",
       "    <tr>\n",
       "      <th>2</th>\n",
       "      <td>Pledges and targets</td>\n",
       "      <td>high</td>\n",
       "      <td>48.12</td>\n",
       "      <td>49.16</td>\n",
       "      <td>49.62</td>\n",
       "      <td>50.16</td>\n",
       "      <td>50.32</td>\n",
       "      <td>50.42</td>\n",
       "      <td>50.37</td>\n",
       "      <td>50.80</td>\n",
       "      <td>...</td>\n",
       "      <td>35.77</td>\n",
       "      <td>35.53</td>\n",
       "      <td>35.27</td>\n",
       "      <td>35.01</td>\n",
       "      <td>34.73</td>\n",
       "      <td>34.44</td>\n",
       "      <td>34.14</td>\n",
       "      <td>33.85</td>\n",
       "      <td>33.57</td>\n",
       "      <td>33.31</td>\n",
       "    </tr>\n",
       "    <tr>\n",
       "      <th>3</th>\n",
       "      <td>Pledges and targets</td>\n",
       "      <td>low</td>\n",
       "      <td>48.12</td>\n",
       "      <td>49.16</td>\n",
       "      <td>49.62</td>\n",
       "      <td>50.08</td>\n",
       "      <td>49.98</td>\n",
       "      <td>50.16</td>\n",
       "      <td>50.15</td>\n",
       "      <td>50.52</td>\n",
       "      <td>...</td>\n",
       "      <td>28.08</td>\n",
       "      <td>27.84</td>\n",
       "      <td>27.60</td>\n",
       "      <td>27.35</td>\n",
       "      <td>27.10</td>\n",
       "      <td>26.85</td>\n",
       "      <td>26.61</td>\n",
       "      <td>26.38</td>\n",
       "      <td>26.16</td>\n",
       "      <td>25.93</td>\n",
       "    </tr>\n",
       "    <tr>\n",
       "      <th>4</th>\n",
       "      <td>Current policy projections</td>\n",
       "      <td>high</td>\n",
       "      <td>48.13</td>\n",
       "      <td>49.18</td>\n",
       "      <td>49.65</td>\n",
       "      <td>50.33</td>\n",
       "      <td>50.46</td>\n",
       "      <td>50.59</td>\n",
       "      <td>50.65</td>\n",
       "      <td>51.22</td>\n",
       "      <td>...</td>\n",
       "      <td>55.05</td>\n",
       "      <td>54.87</td>\n",
       "      <td>54.70</td>\n",
       "      <td>54.53</td>\n",
       "      <td>54.37</td>\n",
       "      <td>54.24</td>\n",
       "      <td>54.12</td>\n",
       "      <td>53.97</td>\n",
       "      <td>53.80</td>\n",
       "      <td>53.64</td>\n",
       "    </tr>\n",
       "  </tbody>\n",
       "</table>\n",
       "<p>5 rows × 93 columns</p>\n",
       "</div>"
      ],
      "text/plain": [
       "                      level_0 level_1   2010   2011   2012   2013   2014  \\\n",
       "0                     AR5 BAU    high  48.96  50.71  52.46  54.21  55.96   \n",
       "1                     AR5 BAU     low  43.80  44.76  45.72  46.68  47.63   \n",
       "2         Pledges and targets    high  48.12  49.16  49.62  50.16  50.32   \n",
       "3         Pledges and targets     low  48.12  49.16  49.62  50.08  49.98   \n",
       "4  Current policy projections    high  48.13  49.18  49.65  50.33  50.46   \n",
       "\n",
       "    2015   2016   2017  ...    2091    2092    2093    2094    2095    2096  \\\n",
       "0  57.71  59.46  61.22  ...  162.69  164.07  165.46  166.84  168.22  169.61   \n",
       "1  48.59  49.55  50.51  ...   87.15   86.65   86.15   85.65   85.15   84.65   \n",
       "2  50.42  50.37  50.80  ...   35.77   35.53   35.27   35.01   34.73   34.44   \n",
       "3  50.16  50.15  50.52  ...   28.08   27.84   27.60   27.35   27.10   26.85   \n",
       "4  50.59  50.65  51.22  ...   55.05   54.87   54.70   54.53   54.37   54.24   \n",
       "\n",
       "     2097    2098    2099    2100  \n",
       "0  170.99  172.38  173.76  175.14  \n",
       "1   84.16   83.66   83.16   82.66  \n",
       "2   34.14   33.85   33.57   33.31  \n",
       "3   26.61   26.38   26.16   25.93  \n",
       "4   54.12   53.97   53.80   53.64  \n",
       "\n",
       "[5 rows x 93 columns]"
      ]
     },
     "execution_count": 3,
     "metadata": {},
     "output_type": "execute_result"
    }
   ],
   "source": [
    "kyoto_csv = pd.read_csv(input_kyoto_file, header=[0, 1], index_col=0)\n",
    "kyoto_csv = kyoto_csv.transpose().reset_index()\n",
    "kyoto_csv.head()"
   ]
  },
  {
   "cell_type": "code",
   "execution_count": 4,
   "metadata": {},
   "outputs": [],
   "source": [
    "kyoto_csv = kyoto_csv.rename(columns={\"level_0\": \"model\", \"level_1\": \"scenario\"})"
   ]
  },
  {
   "cell_type": "code",
   "execution_count": 5,
   "metadata": {},
   "outputs": [],
   "source": [
    "aggregate = \"Emissions|Kyoto Gases (AR4-GWP100)\"\n",
    "kyoto_csv[\"variable\"] = aggregate\n",
    "kyoto_csv[\"unit\"] = \"Mt CO2-equiv/yr\" # We will convert units later\n",
    "kyoto_csv[\"region\"] = \"World\""
   ]
  },
  {
   "cell_type": "code",
   "execution_count": 6,
   "metadata": {},
   "outputs": [
    {
     "data": {
      "text/html": [
       "<div>\n",
       "<style scoped>\n",
       "    .dataframe tbody tr th:only-of-type {\n",
       "        vertical-align: middle;\n",
       "    }\n",
       "\n",
       "    .dataframe tbody tr th {\n",
       "        vertical-align: top;\n",
       "    }\n",
       "\n",
       "    .dataframe thead th {\n",
       "        text-align: right;\n",
       "    }\n",
       "</style>\n",
       "<table border=\"1\" class=\"dataframe\">\n",
       "  <thead>\n",
       "    <tr style=\"text-align: right;\">\n",
       "      <th></th>\n",
       "      <th>model</th>\n",
       "      <th>scenario</th>\n",
       "      <th>region</th>\n",
       "      <th>variable</th>\n",
       "      <th>unit</th>\n",
       "      <th>year</th>\n",
       "      <th>value</th>\n",
       "    </tr>\n",
       "  </thead>\n",
       "  <tbody>\n",
       "    <tr>\n",
       "      <th>10</th>\n",
       "      <td>1.5C consistent</td>\n",
       "      <td>high</td>\n",
       "      <td>World</td>\n",
       "      <td>Emissions|Kyoto Gases (AR4-GWP100)</td>\n",
       "      <td>Mt CO2-equiv/yr</td>\n",
       "      <td>2020</td>\n",
       "      <td>53830.0</td>\n",
       "    </tr>\n",
       "    <tr>\n",
       "      <th>11</th>\n",
       "      <td>1.5C consistent</td>\n",
       "      <td>high</td>\n",
       "      <td>World</td>\n",
       "      <td>Emissions|Kyoto Gases (AR4-GWP100)</td>\n",
       "      <td>Mt CO2-equiv/yr</td>\n",
       "      <td>2021</td>\n",
       "      <td>51200.0</td>\n",
       "    </tr>\n",
       "    <tr>\n",
       "      <th>12</th>\n",
       "      <td>1.5C consistent</td>\n",
       "      <td>high</td>\n",
       "      <td>World</td>\n",
       "      <td>Emissions|Kyoto Gases (AR4-GWP100)</td>\n",
       "      <td>Mt CO2-equiv/yr</td>\n",
       "      <td>2022</td>\n",
       "      <td>48570.0</td>\n",
       "    </tr>\n",
       "    <tr>\n",
       "      <th>13</th>\n",
       "      <td>1.5C consistent</td>\n",
       "      <td>high</td>\n",
       "      <td>World</td>\n",
       "      <td>Emissions|Kyoto Gases (AR4-GWP100)</td>\n",
       "      <td>Mt CO2-equiv/yr</td>\n",
       "      <td>2023</td>\n",
       "      <td>45940.0</td>\n",
       "    </tr>\n",
       "    <tr>\n",
       "      <th>14</th>\n",
       "      <td>1.5C consistent</td>\n",
       "      <td>high</td>\n",
       "      <td>World</td>\n",
       "      <td>Emissions|Kyoto Gases (AR4-GWP100)</td>\n",
       "      <td>Mt CO2-equiv/yr</td>\n",
       "      <td>2024</td>\n",
       "      <td>43310.0</td>\n",
       "    </tr>\n",
       "  </tbody>\n",
       "</table>\n",
       "</div>"
      ],
      "text/plain": [
       "              model scenario region                            variable  \\\n",
       "10  1.5C consistent     high  World  Emissions|Kyoto Gases (AR4-GWP100)   \n",
       "11  1.5C consistent     high  World  Emissions|Kyoto Gases (AR4-GWP100)   \n",
       "12  1.5C consistent     high  World  Emissions|Kyoto Gases (AR4-GWP100)   \n",
       "13  1.5C consistent     high  World  Emissions|Kyoto Gases (AR4-GWP100)   \n",
       "14  1.5C consistent     high  World  Emissions|Kyoto Gases (AR4-GWP100)   \n",
       "\n",
       "               unit  year    value  \n",
       "10  Mt CO2-equiv/yr  2020  53830.0  \n",
       "11  Mt CO2-equiv/yr  2021  51200.0  \n",
       "12  Mt CO2-equiv/yr  2022  48570.0  \n",
       "13  Mt CO2-equiv/yr  2023  45940.0  \n",
       "14  Mt CO2-equiv/yr  2024  43310.0  "
      ]
     },
     "execution_count": 6,
     "metadata": {},
     "output_type": "execute_result"
    }
   ],
   "source": [
    "# There are too many cases so we leave some out\n",
    "kyoto_df = pyam.IamDataFrame(kyoto_csv).filter(scenario=\"median\", keep=False).filter(year=range(2010, 2020), keep=False)\n",
    "kyoto_df.data[\"value\"] = kyoto_df.data[\"value\"] * 1000  #The csv values are in Gt CO2-equiv. \n",
    "kyoto_df.head()"
   ]
  },
  {
   "cell_type": "markdown",
   "metadata": {},
   "source": [
    "Now we can set up the variables to decompose the aggregate into its components. "
   ]
  },
  {
   "cell_type": "code",
   "execution_count": 7,
   "metadata": {},
   "outputs": [
    {
     "data": {
      "text/html": [
       "<div>\n",
       "<style scoped>\n",
       "    .dataframe tbody tr th:only-of-type {\n",
       "        vertical-align: middle;\n",
       "    }\n",
       "\n",
       "    .dataframe tbody tr th {\n",
       "        vertical-align: top;\n",
       "    }\n",
       "\n",
       "    .dataframe thead th {\n",
       "        text-align: right;\n",
       "    }\n",
       "</style>\n",
       "<table border=\"1\" class=\"dataframe\">\n",
       "  <thead>\n",
       "    <tr style=\"text-align: right;\">\n",
       "      <th></th>\n",
       "      <th>variable</th>\n",
       "      <th>unit</th>\n",
       "    </tr>\n",
       "  </thead>\n",
       "  <tbody>\n",
       "    <tr>\n",
       "      <th>0</th>\n",
       "      <td>Emissions|CH4</td>\n",
       "      <td>Mt CO2-equiv/yr</td>\n",
       "    </tr>\n",
       "    <tr>\n",
       "      <th>1</th>\n",
       "      <td>Emissions|CO2</td>\n",
       "      <td>Mt CO2/yr</td>\n",
       "    </tr>\n",
       "    <tr>\n",
       "      <th>2</th>\n",
       "      <td>Emissions|F-Gases</td>\n",
       "      <td>Mt CO2-equiv/yr</td>\n",
       "    </tr>\n",
       "    <tr>\n",
       "      <th>3</th>\n",
       "      <td>Emissions|N2O</td>\n",
       "      <td>Mt CO2-equiv/yr</td>\n",
       "    </tr>\n",
       "  </tbody>\n",
       "</table>\n",
       "</div>"
      ],
      "text/plain": [
       "            variable             unit\n",
       "0      Emissions|CH4  Mt CO2-equiv/yr\n",
       "1      Emissions|CO2        Mt CO2/yr\n",
       "2  Emissions|F-Gases  Mt CO2-equiv/yr\n",
       "3      Emissions|N2O  Mt CO2-equiv/yr"
      ]
     },
     "execution_count": 7,
     "metadata": {},
     "output_type": "execute_result"
    }
   ],
   "source": [
    "components = [\n",
    "    \"Emissions|CO2\",\n",
    "    \"Emissions|CH4\",\n",
    "    \"Emissions|N2O\",\n",
    "    \"Emissions|F-Gases\",\n",
    "]\n",
    "unit_consistent_db = convert_units_to_MtCO2_equiv(\n",
    "    df.filter(variable=components)\n",
    ")\n",
    "unit_consistent_db.variables(True)"
   ]
  },
  {
   "cell_type": "markdown",
   "metadata": {},
   "source": [
    "We interpolate to ensure that each model is represented in each year, to prevent variation in which models feature in particular years"
   ]
  },
  {
   "cell_type": "code",
   "execution_count": 8,
   "metadata": {},
   "outputs": [],
   "source": [
    "for year in unit_consistent_db.filter(variable=\"Emissions|F-Gases\")[\"year\"].unique():\n",
    "    year = int(year) # Hopefully temporary bug connected to how interpolate works in pyam\n",
    "    unit_consistent_db.interpolate(year)"
   ]
  },
  {
   "cell_type": "markdown",
   "metadata": {},
   "source": [
    "## Direct approach: use the decomposer to break up the aggregate\n",
    "Here we use the DecomposeCollectionTimeDepRatio function, which calculates the average ratio between the basket value (the Kyoto gases) and the constituents for each time in the infiller database. In the event of negative total emissions, it will take the average only from data where the basket is negative in the infiller database. "
   ]
  },
  {
   "cell_type": "code",
   "execution_count": null,
   "metadata": {},
   "outputs": [],
   "source": [
    "decomposer = mi.DecomposeCollectionTimeDepRatio(unit_consistent_db)\n",
    "results = decomposer.infill_components(\n",
    "    aggregate, components, \n",
    "    kyoto_df.filter(year=unit_consistent_db.filter(variable=\"Emissions|F-Gases\")[\"year\"].unique()), \n",
    "    use_ar4_data=True\n",
    ")\n",
    "results.head()"
   ]
  },
  {
   "cell_type": "code",
   "execution_count": null,
   "metadata": {},
   "outputs": [],
   "source": [
    "results.variables(True)"
   ]
  },
  {
   "cell_type": "code",
   "execution_count": null,
   "metadata": {},
   "outputs": [],
   "source": [
    "fig = plt.figure(figsize=(16, 9))\n",
    "ax = fig.add_subplot(111)\n",
    "kyoto_df.filter(year=results.data[\"year\"].unique()).line_plot(ax=ax, linewidth = 2.5, label='_nolegend_')\n",
    "df.filter(variable=aggregate, year=results.data[\"year\"].unique()).line_plot(\n",
    "    ax=ax, linewidth=0.1, label='_nolegend_', title=\"Total Kyoto Gases\"\n",
    ")\n",
    "ax.set_ylabel(\"Mt CO$_2$-equiv/yr\")"
   ]
  },
  {
   "cell_type": "code",
   "execution_count": null,
   "metadata": {
    "scrolled": true
   },
   "outputs": [],
   "source": [
    "with warnings.catch_warnings():\n",
    "    warnings.simplefilter('ignore')\n",
    "    fig = plt.figure(figsize=(16, 9))\n",
    "    fig.subplots_adjust(hspace=.3)\n",
    "    ax = fig.add_subplot(221)\n",
    "    kyoto_df.line_plot(ax=ax, label='_nolegend_', linewidth = 2.5, title=\"Total Kyoto Gases\")\n",
    "    ax.set_ylabel(\"Mt CO$_2$-equiv/yr\")\n",
    "    ax.legend(frameon=False)\n",
    "    ax = fig.add_subplot(222)\n",
    "    results.filter(variable=\"Emissions|CO2\").line_plot(ax=ax, linewidth = 2.5, label='_nolegend_', title=\"CO2\")\n",
    "    ax.set_ylabel(\"Mt CO$_2$/yr\")\n",
    "    ax.legend(frameon=False)\n",
    "    ax = fig.add_subplot(223)\n",
    "    results.filter(variable=\"Emissions|CH4\").line_plot(ax=ax, linewidth = 2.5, label='_nolegend_', title=\"CH4\")\n",
    "    ax.set_ylabel(\"Mt CO$_2$-equiv/yr\")\n",
    "    ax.legend(frameon=False)\n",
    "    ax = fig.add_subplot(224)\n",
    "    results.filter(variable=\"Emissions|F-Gases\").line_plot(ax=ax, linewidth = 2.5, label='_nolegend_', title=\"F-gases\")\n",
    "    ax.set_ylabel(\"Mt CO$_2$-equiv/yr\")\n",
    "    ax.legend(frameon=False)"
   ]
  },
  {
   "cell_type": "markdown",
   "metadata": {},
   "source": [
    "We see here that there is some irregularity introduced in the negative pathways. This is because when the Kyoto total gets more negative, we get a larger positive CH4 and F-gas component, whereas we would expect to get a smaller one due to higher levels of effort in mitigating emissions. "
   ]
  },
  {
   "cell_type": "markdown",
   "metadata": {},
   "source": [
    "## Indirect approach: treat the carbon separately\n",
    "Alternatively, we can use other methods to estimate all the emissions except carbon (these will all be positive) via either quantile rolling windows or RMS closest. We can then infill the CO$_2$ pathway by requiring it to add with the other pathways to give the correct Kyoto total. "
   ]
  },
  {
   "cell_type": "code",
   "execution_count": null,
   "metadata": {},
   "outputs": [],
   "source": [
    "non_co2_compon = [\n",
    "    \"Emissions|CH4\",\n",
    "    \"Emissions|N2O\",\n",
    "    \"Emissions|F-Gases\",\n",
    "]\n",
    "non_co2_df = mi.infill_all_required_variables(\n",
    "    kyoto_df, df.filter(variable=[aggregate] + non_co2_compon), [aggregate], non_co2_compon, \n",
    "    cr.QuantileRollingWindows, output_timesteps=np.arange(2020, 2101, 10)\n",
    ")"
   ]
  },
  {
   "cell_type": "code",
   "execution_count": null,
   "metadata": {},
   "outputs": [],
   "source": [
    "unit_cons_non_co2_df = convert_units_to_MtCO2_equiv(non_co2_df)\n",
    "infilled_co2 = mi.infill_composite_values(\n",
    "    unit_cons_non_co2_df, \n",
    "    {\"Emissions|CO2\": {aggregate: 1, \"Emissions|CH4\": -1, \"Emissions|N2O\": -1, \"Emissions|F-Gases\": -1}}\n",
    ")"
   ]
  },
  {
   "cell_type": "code",
   "execution_count": null,
   "metadata": {},
   "outputs": [],
   "source": [
    "infilled_co2.data"
   ]
  },
  {
   "cell_type": "code",
   "execution_count": null,
   "metadata": {},
   "outputs": [],
   "source": [
    "with warnings.catch_warnings():\n",
    "    warnings.simplefilter('ignore')\n",
    "    # We plot the results for 3 component gases\n",
    "    kwargs = {'label':'_nolegend_', 'linewidth': 2.5}\n",
    "    fig = plt.figure(figsize=(16, 9))\n",
    "    fig.subplots_adjust(hspace=.3)\n",
    "    ax = fig.add_subplot(221)\n",
    "    kyoto_df.line_plot(ax=ax, title=\"Total Kyoto Gases\", **kwargs)\n",
    "    ax.legend(frameon=False)\n",
    "    ax.set_ylabel(\"Mt CO$_2$-equiv/yr\")\n",
    "    ax = fig.add_subplot(222)\n",
    "    infilled_co2.filter(variable=\"Emissions|CO2\").line_plot(ax=ax, title=\"CO2 - infilled last\", **kwargs)\n",
    "    ax.set_ylabel(\"Mt CO$_2$/yr\")\n",
    "    ax.legend(frameon=False)\n",
    "    ax = fig.add_subplot(223)\n",
    "    unit_cons_non_co2_df.filter(variable=\"Emissions|CH4\").line_plot(ax=ax, title=\"CH4\", **kwargs)\n",
    "    ax.set_ylabel(\"Mt CO$_2$-equiv/yr\")\n",
    "    ax.legend(frameon=False)\n",
    "    ax = fig.add_subplot(224)\n",
    "    unit_cons_non_co2_df.filter(variable=\"Emissions|F-Gases\").line_plot(ax=ax, title=\"F-gases\", **kwargs)\n",
    "    ax.set_ylabel(\"Mt CO$_2$-equiv/yr\")\n",
    "    ax.legend(frameon=False)"
   ]
  },
  {
   "cell_type": "code",
   "execution_count": null,
   "metadata": {},
   "outputs": [],
   "source": [
    "# Check that the infilling correctly matches the Kyoto total: \n",
    "all_values = unit_cons_non_co2_df.append(infilled_co2)\n",
    "correct_cases = return_cases_which_consistently_split(all_values, aggregate, components)\n",
    "all_cases = return_cases_which_consistently_split(\n",
    "    all_values, aggregate, components, how_close = {\"equal_nan\": True, \"rtol\": 10000}\n",
    ")\n",
    "print(\"The number of inconsistently filled in cases is \" + str(len(all_cases) - len(correct_cases)))"
   ]
  }
 ],
 "metadata": {
  "kernelspec": {
   "display_name": "Python 3",
   "language": "python",
   "name": "python3"
  },
  "language_info": {
   "codemirror_mode": {
    "name": "ipython",
    "version": 3
   },
   "file_extension": ".py",
   "mimetype": "text/x-python",
   "name": "python",
   "nbconvert_exporter": "python",
   "pygments_lexer": "ipython3",
   "version": "3.7.6"
  }
 },
 "nbformat": 4,
 "nbformat_minor": 4
}

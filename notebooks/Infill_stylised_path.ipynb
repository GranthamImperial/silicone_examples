{
 "cells": [
  {
   "cell_type": "markdown",
   "metadata": {},
   "source": [
    "# Infill stylised pathway\n",
    "Here we generate a portfolio of stylised CO2 pathways and infill them with other gases. Pathways are generated based on the functional form suggested in \"What would it take to achieve the Paris temperature targets?\" (Sanderson et al, 2016). They present two general formulae, one for total CO2 and one for other gases, including the AFOLU component of CO2. The industry and fossil fuel component of CO2 is found by requiring it and AFOLU to sum to the total CO2. "
   ]
  },
  {
   "cell_type": "code",
   "execution_count": 1,
   "metadata": {},
   "outputs": [],
   "source": [
    "import time \n",
    "start_time = time.time()"
   ]
  },
  {
   "cell_type": "code",
   "execution_count": 2,
   "metadata": {
    "scrolled": false
   },
   "outputs": [
    {
     "data": {
      "application/javascript": [
       "IPython.OutputArea.prototype._should_scroll = function(lines) { return false; }"
      ],
      "text/plain": [
       "<IPython.core.display.Javascript object>"
      ]
     },
     "metadata": {},
     "output_type": "display_data"
    },
    {
     "name": "stderr",
     "output_type": "stream",
     "text": [
      "pyam - INFO: Running in a notebook, setting `pyam` logging level to `logging.INFO` and adding stderr handler\n"
     ]
    },
    {
     "ename": "ModuleNotFoundError",
     "evalue": "No module named 'openscm_units'",
     "output_type": "error",
     "traceback": [
      "\u001b[1;31m---------------------------------------------------------------------------\u001b[0m",
      "\u001b[1;31mModuleNotFoundError\u001b[0m                       Traceback (most recent call last)",
      "\u001b[1;32m<ipython-input-2-80de7354c783>\u001b[0m in \u001b[0;36m<module>\u001b[1;34m\u001b[0m\n\u001b[0;32m      9\u001b[0m \u001b[1;32mimport\u001b[0m \u001b[0mwarnings\u001b[0m\u001b[1;33m\u001b[0m\u001b[1;33m\u001b[0m\u001b[0m\n\u001b[0;32m     10\u001b[0m \u001b[1;33m\u001b[0m\u001b[0m\n\u001b[1;32m---> 11\u001b[1;33m from silicone.utils import (\n\u001b[0m\u001b[0;32m     12\u001b[0m     \u001b[0mdownload_or_load_sr15\u001b[0m\u001b[1;33m,\u001b[0m\u001b[1;33m\u001b[0m\u001b[1;33m\u001b[0m\u001b[0m\n\u001b[0;32m     13\u001b[0m )\n",
      "\u001b[1;32mc:\\users\\rlamboll\\constraincode\\silicone\\src\\silicone\\utils.py\u001b[0m in \u001b[0;36m<module>\u001b[1;34m\u001b[0m\n\u001b[0;32m      7\u001b[0m \u001b[1;32mimport\u001b[0m \u001b[0mpyam\u001b[0m\u001b[1;33m\u001b[0m\u001b[1;33m\u001b[0m\u001b[0m\n\u001b[0;32m      8\u001b[0m \u001b[1;32mimport\u001b[0m \u001b[0mscipy\u001b[0m\u001b[1;33m.\u001b[0m\u001b[0minterpolate\u001b[0m\u001b[1;33m\u001b[0m\u001b[1;33m\u001b[0m\u001b[0m\n\u001b[1;32m----> 9\u001b[1;33m \u001b[1;32mfrom\u001b[0m \u001b[0mopenscm_units\u001b[0m\u001b[1;33m.\u001b[0m\u001b[0munit_registry\u001b[0m \u001b[1;32mimport\u001b[0m \u001b[0mScmUnitRegistry\u001b[0m\u001b[1;33m\u001b[0m\u001b[1;33m\u001b[0m\u001b[0m\n\u001b[0m\u001b[0;32m     10\u001b[0m \u001b[1;32mfrom\u001b[0m \u001b[0mpint\u001b[0m\u001b[1;33m.\u001b[0m\u001b[0merrors\u001b[0m \u001b[1;32mimport\u001b[0m \u001b[0mDimensionalityError\u001b[0m\u001b[1;33m\u001b[0m\u001b[1;33m\u001b[0m\u001b[0m\n\u001b[0;32m     11\u001b[0m \u001b[1;33m\u001b[0m\u001b[0m\n",
      "\u001b[1;31mModuleNotFoundError\u001b[0m: No module named 'openscm_units'"
     ]
    }
   ],
   "source": [
    "import os.path\n",
    "\n",
    "import numpy as np\n",
    "import pandas as pd\n",
    "import pyam\n",
    "import matplotlib.pyplot as plt\n",
    "import matplotlib\n",
    "import scipy.interpolate as interp\n",
    "import warnings\n",
    "\n",
    "from silicone.utils import (\n",
    "    download_or_load_sr15,\n",
    ")\n",
    "import silicone.multiple_infillers as mi\n",
    "import silicone.database_crunchers as cr"
   ]
  },
  {
   "cell_type": "markdown",
   "metadata": {},
   "source": [
    "# Download data\n",
    "We use the SR1.5 database to perform our infilling and use the CMIP5 database to provide the RCP8.5 and RCP2.6 pathways required by the stylised path equations. "
   ]
  },
  {
   "cell_type": "code",
   "execution_count": null,
   "metadata": {},
   "outputs": [],
   "source": [
    "sr15_file = \"./../input/complete_sr15.csv\"\n",
    "\n",
    "# We are only interested in the worldwide record\n",
    "df = download_or_load_sr15(sr15_file).filter(region=\"World\")\n",
    "df.head()"
   ]
  },
  {
   "cell_type": "code",
   "execution_count": null,
   "metadata": {},
   "outputs": [],
   "source": [
    "rcmip_file = \"./../input/InterpolatedRCMIP_RCPs.csv\"\n",
    "rcmip_df = pyam.IamDataFrame(rcmip_file)"
   ]
  },
  {
   "cell_type": "markdown",
   "metadata": {},
   "source": [
    "## Use the formula to construct lines\n",
    "Our basic input has separate functional forms for CO2 from land use and total CO2. We will base our pathway on the AIM/CGE 2.0 model. It requires three free parameters, $\\tau$ (a decay constant), $t_m$ (a time to start the transition) and $E_\\infty$, the long-run total CO2 emissions. There are two additional parameters defined by continuity conditions, $A$ and $t_e$. Note that we will slightly redefine $A$ from the paper to absorb $t_e$ (and correct what appears be a sign error before $E_\\infty$) so that $E_{CO_2} = A(t-t_m)E^{-(t-t_m)/\\tau}+E_\\infty$. \n",
    "\n",
    "We will arbitrarily select $t_m = 2025, \\tau = 10$ or 25 and $E_\\infty = - 3400$ or 10000 (The negative case is around the 2150 limit of the RCP2.6 scenario)"
   ]
  },
  {
   "cell_type": "code",
   "execution_count": null,
   "metadata": {},
   "outputs": [],
   "source": [
    "rcmip_df.filter(variable=\"Emissions|CO2\", year=2150, scenario=\"rcp26\").data"
   ]
  },
  {
   "cell_type": "code",
   "execution_count": null,
   "metadata": {},
   "outputs": [],
   "source": [
    "taus = [10, 25]\n",
    "t_m = 2025\n",
    "E_infs = [10000, -3400]\n",
    "t_max = 2100"
   ]
  },
  {
   "cell_type": "markdown",
   "metadata": {},
   "source": [
    "### Constructing AFOLU statistics \n",
    "Now we have our inputs, we can calculate the AFOLU CO$_2$ that results from our cases. "
   ]
  },
  {
   "cell_type": "code",
   "execution_count": null,
   "metadata": {},
   "outputs": [],
   "source": [
    "AFOLU = \"Emissions|CO2|MAGICC AFOLU\"\n",
    "construct = rcmip_df.filter(scenario=\"rcp85\", year=range(t_m))\n",
    "ELU85 = rcmip_df.filter(\n",
    "    variable=AFOLU, scenario=\"rcp85\", year=range(t_m, t_max + 1)\n",
    ")\n",
    "ELU26 = rcmip_df.filter(\n",
    "    variable=AFOLU, scenario=\"rcp26\", year=range(t_m, t_max + 1)\n",
    ")\n",
    "ELU85.data.reset_index(inplace=True, drop=True)\n",
    "ELU26.data.reset_index(inplace=True, drop=True)\n",
    "ELU26.head()"
   ]
  },
  {
   "cell_type": "code",
   "execution_count": null,
   "metadata": {},
   "outputs": [],
   "source": [
    "constructed_df = None\n",
    "def scenario_fn(tau, E_inf):\n",
    "    return \"tau_\" + str(tau) + \"_E-inf_\" + str(E_inf)\n",
    "def AFOLU_fn(t, t_m, tau, E85, E26):\n",
    "    return E85 * np.exp(-(t - t_m) / tau)  + E26 * (1 - np.exp(-(t - t_m) / tau))\n",
    "for tau in taus:\n",
    "    for E_inf in E_infs:\n",
    "        output = construct.data\n",
    "        to_add = ELU85.data\n",
    "        to_add[\"value\"] = AFOLU_fn(ELU85[\"year\"], t_m, tau, ELU85[\"value\"], ELU26[\"value\"])\n",
    "        output.append(to_add)\n",
    "        output[\"scenario\"] = scenario_fn(tau, E_inf)\n",
    "        if constructed_df:\n",
    "            constructed_df.append(pyam.IamDataFrame(output))\n",
    "        else:\n",
    "            constructed_df = pyam.IamDataFrame(output)"
   ]
  },
  {
   "cell_type": "code",
   "execution_count": null,
   "metadata": {},
   "outputs": [],
   "source": [
    "constructed_df=pyam.IamDataFrame(constructed_df.data)\n",
    "constructed_df.filter(variable=\"*CO2|MAGICC A*\").data"
   ]
  },
  {
   "cell_type": "markdown",
   "metadata": {},
   "source": [
    "AFOLU CO$_2$ looks as follows in the different cases (compared :"
   ]
  },
  {
   "cell_type": "code",
   "execution_count": null,
   "metadata": {},
   "outputs": [],
   "source": [
    "matplotlib.rcParams.update({'font.size': 15})\n",
    "fig = plt.figure(figsize=(16, 9))\n",
    "ax = plt.subplot(111)\n",
    "constructed_df.filter(variable=AFOLU).line_plot(ax=ax)\n",
    "ELU85.line_plot(ax=ax, linestyle=\"--\")\n",
    "ELU26.line_plot(ax=ax)\n",
    "plt.legend(bbox_to_anchor=(1.01,1), loc=\"upper left\")"
   ]
  },
  {
   "cell_type": "markdown",
   "metadata": {},
   "source": [
    "### Construct the total CO2 emissions\n",
    "The total CO2 is also determined by similar if more complicated equations. Terms for $A$ and $t_e$ are calculated from continuity of value and derivative at $t_m$"
   ]
  },
  {
   "cell_type": "code",
   "execution_count": null,
   "metadata": {},
   "outputs": [],
   "source": [
    "def ETOT_fn(t, t_m, tau, t_e, A, E_inf):\n",
    "    return A * (t-t_e) * np.exp(-(t-t_m)/tau) + E_inf\n",
    "t_step = 1\n",
    "ETOT_86 = rcmip_df.filter(\n",
    "    variable=\"Emissions|CO2\", scenario=\"rcp85\", year=range(t_m - t_step, t_m + t_step + 1)\n",
    ").data.set_index(\"year\")\n",
    "for tau in taus:\n",
    "    for E_inf in E_infs:\n",
    "        output = ELU85.data\n",
    "        # A = (\\tau dE/dt + E - E_inf)/(1 + \\tau) evaluated at t_m\n",
    "        A = (tau * (ETOT_86[\"value\"].loc[t_m + t_step] - ETOT_86[\"value\"].loc[t_m - t_step]) / (2 * t_step) \\\n",
    "            + (ETOT_86[\"value\"].loc[t_m] - E_inf)) / (1 + tau)\n",
    "        t_e = t_m - (ETOT_86[\"value\"].loc[t_m] - E_inf) / A  \n",
    "        output[\"value\"] = ETOT_fn(np.arange(t_m, t_max + 1), t_m, tau, t_e, A, E_inf)\n",
    "        output[\"scenario\"] = scenario_fn(tau, E_inf)\n",
    "        output[\"variable\"] = \"Emissions|CO2\"\n",
    "        constructed_df.append(pyam.IamDataFrame(output), inplace=True)"
   ]
  },
  {
   "cell_type": "code",
   "execution_count": null,
   "metadata": {},
   "outputs": [],
   "source": [
    "def label_formula(tau, Einf):\n",
    "    return \"Formula for tau=\" + str(tau) + \" yrs, E$_{\\infty}$=\" + str(Einf) + \"Mt\"\n",
    "fig = plt.figure(figsize=(16, 9))\n",
    "ax = plt.subplot(111)\n",
    "for Einf in E_infs:\n",
    "    for tau in taus:\n",
    "        constructed_df.filter(\n",
    "            variable=\"Emissions|CO2\", \n",
    "            scenario=scenario_fn(tau, Einf)\n",
    "        ).line_plot(ax=ax, label=label_formula(tau, Einf))"
   ]
  },
  {
   "cell_type": "code",
   "execution_count": null,
   "metadata": {},
   "outputs": [],
   "source": [
    "industry_str = \"Emissions|CO2|MAGICC Fossil and Industrial\"\n",
    "co2 = \"Emissions|CO2\"\n",
    "ind_CO2 = mi.infill_composite_values(constructed_df, {industry_str: {\n",
    "    co2: 1, AFOLU: -1\n",
    "}})\n",
    "ind_CO2.filter(variable=\"Emissions|CO2*\", year=2020).head()"
   ]
  },
  {
   "cell_type": "code",
   "execution_count": null,
   "metadata": {},
   "outputs": [],
   "source": [
    "ind_CO2.filter(variable=\"Emissions|CO2|*\", year=2020).head(10)"
   ]
  },
  {
   "cell_type": "code",
   "execution_count": null,
   "metadata": {},
   "outputs": [],
   "source": [
    "constructed_df.append(ind_CO2.filter(year=range(t_m), keep=False), inplace=True)"
   ]
  },
  {
   "cell_type": "code",
   "execution_count": null,
   "metadata": {},
   "outputs": [],
   "source": [
    "fig = plt.figure(figsize=(16, 9))\n",
    "ax = plt.subplot(111)\n",
    "constructed_df.filter(variable=industry_str).line_plot(ax=ax)\n",
    "plt.legend(bbox_to_anchor=(1.02,1), loc=\"upper left\")"
   ]
  },
  {
   "cell_type": "markdown",
   "metadata": {},
   "source": [
    "## Compare with Silicone results\n",
    "We can now compare the pathways implied by this method with the pathways infilled by our crunchers. We begin with the rolling quantile cruncher"
   ]
  },
  {
   "cell_type": "code",
   "execution_count": null,
   "metadata": {},
   "outputs": [],
   "source": [
    "cruncher_rcmip = cr.QuantileRollingWindows(rcmip_df)\n",
    "infilled_rcmip = cruncher_rcmip.derive_relationship(AFOLU, [co2], nwindows=6)(constructed_df)\n",
    "infilled_rcmip_01 = cruncher_rcmip.derive_relationship(AFOLU, [co2], quantile=0.1)(constructed_df)\n",
    "infilled_rcmip_09 = cruncher_rcmip.derive_relationship(AFOLU, [co2], quantile=0.9)(constructed_df)"
   ]
  },
  {
   "cell_type": "code",
   "execution_count": null,
   "metadata": {},
   "outputs": [],
   "source": [
    "def label_formula(tau, Einf, quantile):\n",
    "    return \"Silicone for tau=\" + str(tau) + \"yrs, E$_{\\infty}$=\" + str(Einf) + \"Mt, quantile=\" +str(quantile)\n",
    "fig = plt.figure(figsize=(16, 9))\n",
    "ax = plt.subplot(111)\n",
    "# We only show one E-inf as they are identical\n",
    "for tau in [taus[1]]:\n",
    "    constructed_df.filter(variable=AFOLU, scenario=\"tau_\" + str(tau) + \"_E-inf_-*\").line_plot(\n",
    "        ax=ax, label=\"Formula for tau=\" + str(tau) + \"yrs\", linestyle=\"--\"\n",
    "    ) \n",
    "    for Einf in [E_infs[1]]:\n",
    "        infilled_rcmip_09.filter(variable=AFOLU, scenario=scenario_fn(tau, Einf)).line_plot(\n",
    "            ax=ax, label=label_formula(tau, Einf, 0.9), linestyle=\"-.\"\n",
    "        )\n",
    "        infilled_rcmip.filter(variable=AFOLU, scenario=scenario_fn(tau, Einf)).line_plot(\n",
    "            ax=ax, label=label_formula(tau, Einf, 0.5)\n",
    "        )\n",
    "        infilled_rcmip_01.filter(variable=AFOLU, scenario=scenario_fn(tau, Einf)).line_plot(\n",
    "            ax=ax, label=label_formula(tau, Einf, 0.1), linestyle=\"-.\"\n",
    "        )"
   ]
  },
  {
   "cell_type": "markdown",
   "metadata": {},
   "source": [
    "Our main conclusion from this is that this database is too small to use this cruncher, hence the inter-year variability is too high. We now will repeat this, using the larger database from the IIASA SR 1.5 repository. This will require some relabelling to make variable names match. "
   ]
  },
  {
   "cell_type": "code",
   "execution_count": null,
   "metadata": {},
   "outputs": [],
   "source": [
    "same_name_sr15 = df.filter(variable=[\"*CO2*\", \"*CH4*\"])\n",
    "same_name_sr15.rename(\n",
    "    {\n",
    "        \"variable\": {\n",
    "            \"Emissions|CO2|AFOLU\": AFOLU,\n",
    "            \"Emissions|CO2|Energy and Industrial Processes\": industry_str\n",
    "        }\n",
    "    }, \n",
    "    inplace=True\n",
    ")\n",
    "for time_i in same_name_sr15[\"year\"].unique():\n",
    "    time_i = int(time_i)\n",
    "    same_name_sr15.interpolate(time_i)"
   ]
  },
  {
   "cell_type": "code",
   "execution_count": null,
   "metadata": {},
   "outputs": [],
   "source": [
    "cruncher_sr15 = cr.QuantileRollingWindows(same_name_sr15)\n",
    "infilled_sr15 = cruncher_sr15.derive_relationship(AFOLU, [co2], nwindows = 10)(\n",
    "    constructed_df.filter(year=same_name_sr15[\"year\"].unique())\n",
    ")"
   ]
  },
  {
   "cell_type": "code",
   "execution_count": null,
   "metadata": {},
   "outputs": [],
   "source": [
    "fig = plt.figure(figsize=(16, 9))\n",
    "ax = plt.subplot(111)\n",
    "# We only show one E-inf as they are identical\n",
    "for tau in taus:\n",
    "    for Einf in E_infs:\n",
    "        infilled_sr15.filter(variable=AFOLU, scenario=scenario_fn(tau, Einf)).line_plot(\n",
    "            ax=ax, \n",
    "            label=label_formula(tau, Einf, 0.5)\n",
    "        )\n",
    "for tau in taus:\n",
    "    constructed_df.filter(variable=AFOLU, scenario=\"tau_\" + str(tau) + \"_E-inf_-*\").line_plot(\n",
    "        ax=ax, label=\"Formula for tau \" + str(tau), linestyle=\"--\"\n",
    "    ) "
   ]
  },
  {
   "cell_type": "code",
   "execution_count": null,
   "metadata": {},
   "outputs": [],
   "source": [
    "infilled_sr15.filter(variable=AFOLU, year=2020).data"
   ]
  },
  {
   "cell_type": "code",
   "execution_count": null,
   "metadata": {},
   "outputs": [],
   "source": [
    "infilled_sr15_09 = cruncher_sr15.derive_relationship(AFOLU, [co2], nwindows = 6, quantile=0.9)(\n",
    "    constructed_df.filter(year=same_name_sr15[\"year\"].unique())\n",
    ")\n",
    "infilled_sr15_01 = cruncher_sr15.derive_relationship(AFOLU, [co2], nwindows = 6, quantile=0.1)(\n",
    "    constructed_df.filter(year=same_name_sr15[\"year\"].unique())\n",
    ")"
   ]
  },
  {
   "cell_type": "code",
   "execution_count": null,
   "metadata": {
    "scrolled": true
   },
   "outputs": [],
   "source": [
    "fig = plt.figure(figsize=(16, 9))\n",
    "ax = plt.subplot(111)\n",
    "for tau in [taus[0]]:\n",
    "    # We only show one E-inf as they are identical\n",
    "    constructed_df.filter(variable=AFOLU, scenario=\"tau_\" + str(tau) + \"_E-inf_-*\").line_plot(\n",
    "        ax=ax, label=\"Formula for tau=\" + str(tau) + \"yrs\", linestyle=\"--\"\n",
    "    ) \n",
    "    for Einf in [E_infs[1]]:\n",
    "        infilled_sr15_09.filter(variable=AFOLU, scenario=scenario_fn(tau, Einf)).line_plot(\n",
    "            ax=ax, label=label_formula(tau, Einf, 0.9), linestyle=\"-.\"\n",
    "        )\n",
    "        infilled_sr15.filter(variable=AFOLU, scenario=scenario_fn(tau, Einf)).line_plot(\n",
    "            ax=ax, \n",
    "            label=label_formula(tau, Einf, 0.5)\n",
    "        )\n",
    "        infilled_sr15_01.filter(variable=AFOLU, scenario=scenario_fn(tau, Einf)).line_plot(\n",
    "            ax=ax, label=label_formula(tau, Einf, 0.1), linestyle=\"-.\"\n",
    "        )"
   ]
  },
  {
   "cell_type": "markdown",
   "metadata": {},
   "source": [
    "We see the results are much smoother and more believable. \n",
    "\n",
    "## Infilling with a linear interpolator\n",
    "We can instead infill this in a way consistent with the SSP scenarios 1-3 implemented by the MESSAGE model. We do this by interpolating between the two closest lead values from that database. We will use total CO2 as the lead variable as above. We will perform the analysis for both AFOLU and methane. "
   ]
  },
  {
   "cell_type": "code",
   "execution_count": null,
   "metadata": {},
   "outputs": [],
   "source": [
    "constructed_df_years = constructed_df.filter(year=same_name_sr15[\"year\"].unique())\n",
    "cruncher = cr.ScenarioAndModelSpecificInterpolate(same_name_sr15)\n",
    "scenarios = [\"SSP1*\", \"SSP2*\", \"SSP3*\"]\n",
    "ch4 = \"Emissions|CH4\"\n",
    "infilled_AFOLU = {}\n",
    "infilled_CH4 = {}\n",
    "for scenario in scenarios:\n",
    "    infilled_AFOLU[scenario] = cruncher.derive_relationship(\n",
    "        AFOLU,\n",
    "        [co2],\n",
    "        required_model=\"MESSAGE*\", \n",
    "        required_scenario=scenario\n",
    "    )(constructed_df_years)\n",
    "    infilled_CH4[scenario] = cruncher.derive_relationship(\n",
    "        ch4,\n",
    "        [co2],\n",
    "        required_model=\"MESSAGE*\", \n",
    "        required_scenario=scenario\n",
    "    )(constructed_df_years)"
   ]
  },
  {
   "cell_type": "code",
   "execution_count": null,
   "metadata": {},
   "outputs": [],
   "source": [
    "def interp_label_formula(tau, Einf):\n",
    "    return \"Silicone for tau=\" + str(tau) + \"yrs, E$_{\\infty}$=\" + str(Einf) + \"Mt\""
   ]
  },
  {
   "cell_type": "code",
   "execution_count": null,
   "metadata": {},
   "outputs": [],
   "source": [
    "fig = plt.figure(figsize=(18, 20))\n",
    "color_dict = {\n",
    "    (E_infs[0], taus[0]): \"black\", \n",
    "    (E_infs[1], taus[0]): \"grey\", \n",
    "    (E_infs[0], taus[1]): \"purple\", \n",
    "    (E_infs[1], taus[1]): \"green\"\n",
    "}\n",
    "with warnings.catch_warnings():\n",
    "    warnings.simplefilter('ignore')\n",
    "    for i, scenario in enumerate(scenarios):\n",
    "        ax = fig.add_subplot(3, 3, 3 * i + 1)\n",
    "        for tau in taus:\n",
    "            for Einf in E_infs:\n",
    "                constructed_df_years.filter(variable=co2, scenario=scenario_fn(tau, Einf)).line_plot(\n",
    "                    ax=ax, color=color_dict[(Einf, tau)]\n",
    "                )\n",
    "        same_name_sr15.filter(variable=co2, scenario=scenario, model=\"MESSAGE*\").line_plot(\n",
    "            ax=ax, linestyle=\"--\", label=\"__\"\n",
    "        )\n",
    "        ax.get_legend().remove()\n",
    "        ax.set_title(\"Total CO$_2$ for {}\".format(scenario[0:4]))\n",
    "        ax = fig.add_subplot(3, 3, 3 * i + 2)\n",
    "        same_name_sr15.filter(variable=AFOLU, scenario=scenario, model=\"MESSAGE*\").line_plot(\n",
    "            ax=ax, linestyle=\"--\", label=\"__\"\n",
    "        )\n",
    "        ax.set_title(\"AFOLU CO$_2$ for {}\".format(scenario[0:4]))\n",
    "        ax.get_legend().remove()\n",
    "        ax = fig.add_subplot(3, 3, 3 * i + 3)\n",
    "        for tau in taus:\n",
    "            for Einf in E_infs:\n",
    "                infilled_AFOLU[scenario].filter(scenario=scenario_fn(tau, Einf)).line_plot(\n",
    "                    ax=ax, \n",
    "                    label=chr(964) + \"=\" + str(tau) + \"yrs, E$_{\\infty}$=\" + str(Einf) + \"Mt\", \n",
    "                    color=color_dict[(Einf, tau)]\n",
    "                )\n",
    "        ax.set_title(\"AFOLU CO$_2$ infilled with {}\".format(scenario[0:4]))\n",
    "        if i != 0:\n",
    "            ax.get_legend().remove()\n",
    "        else:\n",
    "            ax.legend(loc='upper right')\n",
    "    fig.tight_layout()"
   ]
  },
  {
   "cell_type": "markdown",
   "metadata": {},
   "source": [
    "Investigating the lineshape of the input, we see good agreement with the SSP3 shape and so if no narrative force indicates the preference of any SSP model, we would conclude that the bottom right image is probably best. We can also plot the same relationship for methane. "
   ]
  },
  {
   "cell_type": "code",
   "execution_count": null,
   "metadata": {},
   "outputs": [],
   "source": [
    "fig = plt.figure(figsize=(18, 20))\n",
    "fig.tight_layout()\n",
    "with warnings.catch_warnings():\n",
    "    warnings.simplefilter('ignore')\n",
    "    for i, scenario in enumerate(scenarios):\n",
    "        ax = fig.add_subplot(3, 3, 3 * i + 1)\n",
    "        for tau in taus:\n",
    "            for Einf in E_infs:\n",
    "                constructed_df_years.filter(variable=co2, scenario=scenario_fn(tau, Einf)).line_plot(\n",
    "                    ax=ax, color=color_dict[(Einf, tau)]\n",
    "                )\n",
    "        same_name_sr15.filter(variable=co2, scenario=scenario, model=\"MESSAGE*\").line_plot(\n",
    "            ax=ax, linestyle=\"--\", label=\"__\", \n",
    "        )\n",
    "        ax.get_legend().remove()\n",
    "        ax.set_title(\"Total CO$_2$ for {}\".format(scenario[0:4]))\n",
    "        ax = fig.add_subplot(3, 3, 3 * i + 2)\n",
    "        same_name_sr15.filter(variable=ch4, scenario=scenario, model=\"MESSAGE*\").line_plot(\n",
    "            ax=ax, linestyle=\"--\", label=\"__\"\n",
    "        )\n",
    "        ax.set_title(\"Methane for {}\".format(scenario[0:4]))\n",
    "        ax.get_legend().remove()\n",
    "        ax = fig.add_subplot(3, 3, 3 * i + 3)\n",
    "        for tau in taus:\n",
    "            for Einf in E_infs:\n",
    "                infilled_CH4[scenario].filter(scenario=scenario_fn(tau, Einf)).line_plot(\n",
    "                    ax=ax, label=chr(964) + \"=\" + str(tau) + \"yrs, E$_{\\infty}$=\" + str(Einf) + \"Mt\", color=color_dict[(Einf, tau)]\n",
    "                )\n",
    "        ax.set_title(\"Methane infilled with {}\".format(scenario[0:4]))\n",
    "        if i != 0:\n",
    "            ax.get_legend().remove()\n",
    "        else:\n",
    "            ax.legend(loc='upper right')    "
   ]
  },
  {
   "cell_type": "markdown",
   "metadata": {},
   "source": [
    "Again, the similarity of lead value paths indicates that the bottom right image is probably preferable. "
   ]
  },
  {
   "cell_type": "code",
   "execution_count": null,
   "metadata": {},
   "outputs": [],
   "source": [
    "print(time.time() - start_time)"
   ]
  }
 ],
 "metadata": {
  "kernelspec": {
   "display_name": "Python 3",
   "language": "python",
   "name": "python3"
  },
  "language_info": {
   "codemirror_mode": {
    "name": "ipython",
    "version": 3
   },
   "file_extension": ".py",
   "mimetype": "text/x-python",
   "name": "python",
   "nbconvert_exporter": "python",
   "pygments_lexer": "ipython3",
   "version": "3.7.4"
  }
 },
 "nbformat": 4,
 "nbformat_minor": 4
}

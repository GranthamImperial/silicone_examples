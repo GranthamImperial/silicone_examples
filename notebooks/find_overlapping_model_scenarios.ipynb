{
 "cells": [
  {
   "cell_type": "markdown",
   "metadata": {},
   "source": [
    "# Find model/scenario sets with complete data\n",
    "We wish to find the most complete set of variables possible. We will restrict ourselves to the first order (i.e. CO2 but not subtypes) and find the subset of scenarios which have all of them. "
   ]
  },
  {
   "cell_type": "code",
   "execution_count": 1,
   "metadata": {},
   "outputs": [
    {
     "name": "stderr",
     "output_type": "stream",
     "text": [
      "In c:\\users\\rlamboll\\appdata\\local\\continuum\\anaconda3\\envs\\iiasa-climate\\lib\\site-packages\\matplotlib\\mpl-data\\stylelib\\_classic_test.mplstyle: \n",
      "The savefig.frameon rcparam was deprecated in Matplotlib 3.1 and will be removed in 3.3.\n",
      "In c:\\users\\rlamboll\\appdata\\local\\continuum\\anaconda3\\envs\\iiasa-climate\\lib\\site-packages\\matplotlib\\mpl-data\\stylelib\\_classic_test.mplstyle: \n",
      "The verbose.level rcparam was deprecated in Matplotlib 3.1 and will be removed in 3.3.\n",
      "In c:\\users\\rlamboll\\appdata\\local\\continuum\\anaconda3\\envs\\iiasa-climate\\lib\\site-packages\\matplotlib\\mpl-data\\stylelib\\_classic_test.mplstyle: \n",
      "The verbose.fileo rcparam was deprecated in Matplotlib 3.1 and will be removed in 3.3.\n"
     ]
    },
    {
     "data": {
      "application/javascript": [
       "IPython.OutputArea.prototype._should_scroll = function(lines) { return false; }"
      ],
      "text/plain": [
       "<IPython.core.display.Javascript object>"
      ]
     },
     "metadata": {},
     "output_type": "display_data"
    },
    {
     "name": "stderr",
     "output_type": "stream",
     "text": [
      "pyam - INFO: Running in a notebook, setting `pyam` logging level to `logging.INFO` and adding stderr handler\n"
     ]
    }
   ],
   "source": [
    "import matplotlib.pyplot as plt\n",
    "import numpy as np\n",
    "import pandas as pd\n",
    "import pyam\n",
    "import silicone\n",
    "\n",
    "import silicone.multiple_infillers as mi\n",
    "import silicone.database_crunchers as cr\n",
    "from silicone.utils import (\n",
    "    download_or_load_sr15,\n",
    ")"
   ]
  },
  {
   "cell_type": "code",
   "execution_count": 2,
   "metadata": {},
   "outputs": [
    {
     "name": "stderr",
     "output_type": "stream",
     "text": [
      "pyam.core - INFO: Reading file `./../input/complete_sr15.csv`\n"
     ]
    },
    {
     "data": {
      "text/html": [
       "<div>\n",
       "<style scoped>\n",
       "    .dataframe tbody tr th:only-of-type {\n",
       "        vertical-align: middle;\n",
       "    }\n",
       "\n",
       "    .dataframe tbody tr th {\n",
       "        vertical-align: top;\n",
       "    }\n",
       "\n",
       "    .dataframe thead th {\n",
       "        text-align: right;\n",
       "    }\n",
       "</style>\n",
       "<table border=\"1\" class=\"dataframe\">\n",
       "  <thead>\n",
       "    <tr style=\"text-align: right;\">\n",
       "      <th></th>\n",
       "      <th>model</th>\n",
       "      <th>scenario</th>\n",
       "      <th>region</th>\n",
       "      <th>variable</th>\n",
       "      <th>unit</th>\n",
       "      <th>year</th>\n",
       "      <th>value</th>\n",
       "    </tr>\n",
       "  </thead>\n",
       "  <tbody>\n",
       "    <tr>\n",
       "      <th>0</th>\n",
       "      <td>AIM/CGE 2.0</td>\n",
       "      <td>ADVANCE_2020_1.5C-2100</td>\n",
       "      <td>World</td>\n",
       "      <td>Emissions|BC</td>\n",
       "      <td>Mt BC/yr</td>\n",
       "      <td>2005</td>\n",
       "      <td>8.3367</td>\n",
       "    </tr>\n",
       "    <tr>\n",
       "      <th>1</th>\n",
       "      <td>AIM/CGE 2.0</td>\n",
       "      <td>ADVANCE_2020_1.5C-2100</td>\n",
       "      <td>World</td>\n",
       "      <td>Emissions|BC</td>\n",
       "      <td>Mt BC/yr</td>\n",
       "      <td>2010</td>\n",
       "      <td>7.6408</td>\n",
       "    </tr>\n",
       "    <tr>\n",
       "      <th>2</th>\n",
       "      <td>AIM/CGE 2.0</td>\n",
       "      <td>ADVANCE_2020_1.5C-2100</td>\n",
       "      <td>World</td>\n",
       "      <td>Emissions|BC</td>\n",
       "      <td>Mt BC/yr</td>\n",
       "      <td>2015</td>\n",
       "      <td>7.2724</td>\n",
       "    </tr>\n",
       "    <tr>\n",
       "      <th>3</th>\n",
       "      <td>AIM/CGE 2.0</td>\n",
       "      <td>ADVANCE_2020_1.5C-2100</td>\n",
       "      <td>World</td>\n",
       "      <td>Emissions|BC</td>\n",
       "      <td>Mt BC/yr</td>\n",
       "      <td>2020</td>\n",
       "      <td>7.0752</td>\n",
       "    </tr>\n",
       "    <tr>\n",
       "      <th>4</th>\n",
       "      <td>AIM/CGE 2.0</td>\n",
       "      <td>ADVANCE_2020_1.5C-2100</td>\n",
       "      <td>World</td>\n",
       "      <td>Emissions|BC</td>\n",
       "      <td>Mt BC/yr</td>\n",
       "      <td>2025</td>\n",
       "      <td>5.8486</td>\n",
       "    </tr>\n",
       "  </tbody>\n",
       "</table>\n",
       "</div>"
      ],
      "text/plain": [
       "         model                scenario region      variable      unit  year  \\\n",
       "0  AIM/CGE 2.0  ADVANCE_2020_1.5C-2100  World  Emissions|BC  Mt BC/yr  2005   \n",
       "1  AIM/CGE 2.0  ADVANCE_2020_1.5C-2100  World  Emissions|BC  Mt BC/yr  2010   \n",
       "2  AIM/CGE 2.0  ADVANCE_2020_1.5C-2100  World  Emissions|BC  Mt BC/yr  2015   \n",
       "3  AIM/CGE 2.0  ADVANCE_2020_1.5C-2100  World  Emissions|BC  Mt BC/yr  2020   \n",
       "4  AIM/CGE 2.0  ADVANCE_2020_1.5C-2100  World  Emissions|BC  Mt BC/yr  2025   \n",
       "\n",
       "    value  \n",
       "0  8.3367  \n",
       "1  7.6408  \n",
       "2  7.2724  \n",
       "3  7.0752  \n",
       "4  5.8486  "
      ]
     },
     "execution_count": 2,
     "metadata": {},
     "output_type": "execute_result"
    }
   ],
   "source": [
    "sr15_file = \"./../input/complete_sr15.csv\"\n",
    "all_models = [\n",
    "    'AIM/CGE 2.0', 'AIM/CGE 2.1', 'C-ROADS-5.005', 'GCAM 4.2', 'GENeSYS-MOD 1.0', \n",
    "    'IEA Energy Technology Perspective Model 2017', 'IEA World Energy Model 2017', \n",
    "    'IMAGE 3.0.1', 'IMAGE 3.0.2', 'MERGE-ETL 6.0', 'MESSAGE V.3', 'MESSAGE-GLOBIOM 1.0', \n",
    "    'MESSAGEix-GLOBIOM 1.0', 'POLES ADVANCE', 'POLES CD-LINKS', 'POLES EMF33', 'REMIND 1.5', \n",
    "    'REMIND 1.7', 'REMIND-MAgPIE 1.5', 'REMIND-MAgPIE 1.7-3.0', \n",
    "    'Shell World Energy Model 2018', 'WITCH-GLOBIOM 3.1', 'WITCH-GLOBIOM 4.2', 'WITCH-GLOBIOM 4.4'\n",
    "]\n",
    "\n",
    "df = download_or_load_sr15(sr15_file, all_models).filter(region=\"World\") \n",
    "df.head()"
   ]
  },
  {
   "cell_type": "code",
   "execution_count": 3,
   "metadata": {},
   "outputs": [],
   "source": [
    "vars = df.filter(level=1).variables()\n",
    "var_len = {}\n",
    "ms = [\"model\", \"scenario\"]\n",
    "accepted_mscen = df.filter(variable=\"*PFC\").data[[\"model\", \"scenario\"]].drop_duplicates()\n",
    "for var in vars:\n",
    "    var_len[var] = len(df.filter(variable=var).timeseries())\n",
    "    accepted_mscen = accepted_mscen.merge(\n",
    "        df.filter(variable=var).timeseries(), \n",
    "        on=ms, \n",
    "        how='left', \n",
    "        indicator=True,\n",
    "    )\n",
    "    accepted_mscen = accepted_mscen.loc[accepted_mscen._merge==\"both\"][ms]"
   ]
  },
  {
   "cell_type": "code",
   "execution_count": 4,
   "metadata": {},
   "outputs": [],
   "source": [
    "accepted = df.data.merge(accepted_mscen, on=ms, how=\"left\", indicator=True)\n",
    "accepted = accepted[accepted._merge==\"both\"]"
   ]
  },
  {
   "cell_type": "code",
   "execution_count": 5,
   "metadata": {},
   "outputs": [
    {
     "name": "stdout",
     "output_type": "stream",
     "text": [
      "         model                           scenario region      variable  \\\n",
      "0  AIM/CGE 2.1  TERL_15D_LowCarbonTransportPolicy  World  Emissions|BC   \n",
      "1  AIM/CGE 2.1  TERL_15D_LowCarbonTransportPolicy  World  Emissions|BC   \n",
      "2  AIM/CGE 2.1  TERL_15D_LowCarbonTransportPolicy  World  Emissions|BC   \n",
      "3  AIM/CGE 2.1  TERL_15D_LowCarbonTransportPolicy  World  Emissions|BC   \n",
      "4  AIM/CGE 2.1  TERL_15D_LowCarbonTransportPolicy  World  Emissions|BC   \n",
      "\n",
      "       unit  year   value  \n",
      "0  Mt BC/yr  2005  9.1717  \n",
      "1  Mt BC/yr  2010  9.8494  \n",
      "2  Mt BC/yr  2015  9.9234  \n",
      "3  Mt BC/yr  2020  9.7993  \n",
      "4  Mt BC/yr  2025  9.1199  \n"
     ]
    }
   ],
   "source": [
    "del accepted[\"_merge\"]\n",
    "accepted = pyam.IamDataFrame(accepted)\n",
    "print(accepted.head())"
   ]
  },
  {
   "cell_type": "code",
   "execution_count": null,
   "metadata": {},
   "outputs": [],
   "source": [
    "accepted.filter(variable=\"*CO2\").plot()\n",
    "print(len())"
   ]
  },
  {
   "cell_type": "markdown",
   "metadata": {},
   "source": [
    "## Save the results to files"
   ]
  },
  {
   "cell_type": "code",
   "execution_count": 12,
   "metadata": {},
   "outputs": [],
   "source": [
    "accepted.to_csv(\"../output/allvar_sr15_mscen.csv\")\n",
    "accepted.filter(variable=\"*CO2*\").to_csv(\"../output/allvar_co2_only_sr15_mscen.csv\")\n",
    "accepted.filter(variable=[\"*CO2*\", \"*CH4*\"]).to_csv(\"../output/allvar_co2ch4_only_sr15_mscen.csv\")"
   ]
  }
 ],
 "metadata": {
  "kernelspec": {
   "display_name": "Python 3",
   "language": "python",
   "name": "python3"
  },
  "language_info": {
   "codemirror_mode": {
    "name": "ipython",
    "version": 3
   },
   "file_extension": ".py",
   "mimetype": "text/x-python",
   "name": "python",
   "nbconvert_exporter": "python",
   "pygments_lexer": "ipython3",
   "version": "3.7.5"
  }
 },
 "nbformat": 4,
 "nbformat_minor": 4
}

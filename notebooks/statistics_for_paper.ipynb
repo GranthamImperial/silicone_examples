{
 "cells": [
  {
   "cell_type": "markdown",
   "metadata": {},
   "source": [
    "# Statistical tests for \"Silicone: an open-source Python package for inferring missing emissions data for climate change research\"\n",
    "This notebook is where results that require exploration of the data outside of the silicone package were calculated. The results that go into this notebook were derived by running the script `scripts/compare_crunchers.py`. "
   ]
  },
  {
   "cell_type": "code",
   "execution_count": 1,
   "metadata": {},
   "outputs": [],
   "source": [
    "import pandas as pd\n",
    "import numpy as np\n",
    "import matplotlib.pyplot as plt\n",
    "from scipy import stats\n",
    "from itertools import combinations"
   ]
  },
  {
   "cell_type": "code",
   "execution_count": 2,
   "metadata": {},
   "outputs": [],
   "source": [
    "CO2_results_orig = pd.read_csv(\"../input/CruncherComparisonLead_stdv_CO2.csv\", index_col=0)\n",
    "CH4_results_orig = pd.read_csv(\"../input/CruncherComparisonLead_stdv_CH4.csv\", index_col=0)"
   ]
  },
  {
   "cell_type": "markdown",
   "metadata": {},
   "source": [
    "## Calculating the difference between infilling with CO2 and CH4 emissions\n",
    "We can't compare the values with CO2 or CH4 itself, as they are only found in one of the two datasets, so we start by removing them. "
   ]
  },
  {
   "cell_type": "code",
   "execution_count": 3,
   "metadata": {},
   "outputs": [],
   "source": [
    "to_drop = [\"Emissions|CO2\", \"Emissions|CH4\"]\n",
    "CO2_results = CO2_results_orig.drop(to_drop, errors=\"ignore\")\n",
    "CH4_results = CH4_results_orig.drop(to_drop, errors=\"ignore\")"
   ]
  },
  {
   "cell_type": "markdown",
   "metadata": {},
   "source": [
    "We can now calculate the difference"
   ]
  },
  {
   "cell_type": "code",
   "execution_count": 4,
   "metadata": {},
   "outputs": [
    {
     "data": {
      "text/html": [
       "<div>\n",
       "<style scoped>\n",
       "    .dataframe tbody tr th:only-of-type {\n",
       "        vertical-align: middle;\n",
       "    }\n",
       "\n",
       "    .dataframe tbody tr th {\n",
       "        vertical-align: top;\n",
       "    }\n",
       "\n",
       "    .dataframe thead th {\n",
       "        text-align: right;\n",
       "    }\n",
       "</style>\n",
       "<table border=\"1\" class=\"dataframe\">\n",
       "  <thead>\n",
       "    <tr style=\"text-align: right;\">\n",
       "      <th></th>\n",
       "      <th>TimeDepRatio</th>\n",
       "      <th>QuantileRollingWindows</th>\n",
       "      <th>RMSClosest</th>\n",
       "      <th>LinearInterpolation</th>\n",
       "      <th>EqualQuantileWalk</th>\n",
       "    </tr>\n",
       "  </thead>\n",
       "  <tbody>\n",
       "    <tr>\n",
       "      <th>Emissions|BC</th>\n",
       "      <td>0.680653</td>\n",
       "      <td>0.005383</td>\n",
       "      <td>0.011394</td>\n",
       "      <td>0.049705</td>\n",
       "      <td>0.045927</td>\n",
       "    </tr>\n",
       "    <tr>\n",
       "      <th>Emissions|CO</th>\n",
       "      <td>0.825910</td>\n",
       "      <td>0.006286</td>\n",
       "      <td>0.122418</td>\n",
       "      <td>0.031960</td>\n",
       "      <td>-0.011376</td>\n",
       "    </tr>\n",
       "    <tr>\n",
       "      <th>Emissions|F-Gases</th>\n",
       "      <td>-0.082588</td>\n",
       "      <td>-0.028508</td>\n",
       "      <td>-0.020765</td>\n",
       "      <td>-0.038032</td>\n",
       "      <td>-0.061443</td>\n",
       "    </tr>\n",
       "    <tr>\n",
       "      <th>Emissions|HFC</th>\n",
       "      <td>-0.079501</td>\n",
       "      <td>-0.034051</td>\n",
       "      <td>0.040344</td>\n",
       "      <td>-0.063303</td>\n",
       "      <td>-0.067836</td>\n",
       "    </tr>\n",
       "    <tr>\n",
       "      <th>Emissions|N2O</th>\n",
       "      <td>0.846571</td>\n",
       "      <td>0.187562</td>\n",
       "      <td>0.170851</td>\n",
       "      <td>0.300584</td>\n",
       "      <td>0.344806</td>\n",
       "    </tr>\n",
       "    <tr>\n",
       "      <th>Emissions|NH3</th>\n",
       "      <td>0.546394</td>\n",
       "      <td>0.025537</td>\n",
       "      <td>0.142734</td>\n",
       "      <td>0.117625</td>\n",
       "      <td>0.012227</td>\n",
       "    </tr>\n",
       "    <tr>\n",
       "      <th>Emissions|NOx</th>\n",
       "      <td>0.619371</td>\n",
       "      <td>-0.018306</td>\n",
       "      <td>-0.018586</td>\n",
       "      <td>0.003653</td>\n",
       "      <td>0.012659</td>\n",
       "    </tr>\n",
       "    <tr>\n",
       "      <th>Emissions|OC</th>\n",
       "      <td>0.744116</td>\n",
       "      <td>0.014948</td>\n",
       "      <td>0.121464</td>\n",
       "      <td>0.097163</td>\n",
       "      <td>0.122549</td>\n",
       "    </tr>\n",
       "    <tr>\n",
       "      <th>Emissions|PFC</th>\n",
       "      <td>0.057638</td>\n",
       "      <td>0.030030</td>\n",
       "      <td>0.129166</td>\n",
       "      <td>0.050326</td>\n",
       "      <td>0.061806</td>\n",
       "    </tr>\n",
       "    <tr>\n",
       "      <th>Emissions|SF6</th>\n",
       "      <td>0.050492</td>\n",
       "      <td>0.020381</td>\n",
       "      <td>-0.002353</td>\n",
       "      <td>-0.005633</td>\n",
       "      <td>0.010008</td>\n",
       "    </tr>\n",
       "    <tr>\n",
       "      <th>Emissions|Sulfur</th>\n",
       "      <td>0.208977</td>\n",
       "      <td>-0.009711</td>\n",
       "      <td>-0.014023</td>\n",
       "      <td>0.031086</td>\n",
       "      <td>-0.006596</td>\n",
       "    </tr>\n",
       "    <tr>\n",
       "      <th>Emissions|VOC</th>\n",
       "      <td>0.825040</td>\n",
       "      <td>0.009243</td>\n",
       "      <td>0.090274</td>\n",
       "      <td>0.084450</td>\n",
       "      <td>-0.030478</td>\n",
       "    </tr>\n",
       "  </tbody>\n",
       "</table>\n",
       "</div>"
      ],
      "text/plain": [
       "                   TimeDepRatio  QuantileRollingWindows  RMSClosest  \\\n",
       "Emissions|BC           0.680653                0.005383    0.011394   \n",
       "Emissions|CO           0.825910                0.006286    0.122418   \n",
       "Emissions|F-Gases     -0.082588               -0.028508   -0.020765   \n",
       "Emissions|HFC         -0.079501               -0.034051    0.040344   \n",
       "Emissions|N2O          0.846571                0.187562    0.170851   \n",
       "Emissions|NH3          0.546394                0.025537    0.142734   \n",
       "Emissions|NOx          0.619371               -0.018306   -0.018586   \n",
       "Emissions|OC           0.744116                0.014948    0.121464   \n",
       "Emissions|PFC          0.057638                0.030030    0.129166   \n",
       "Emissions|SF6          0.050492                0.020381   -0.002353   \n",
       "Emissions|Sulfur       0.208977               -0.009711   -0.014023   \n",
       "Emissions|VOC          0.825040                0.009243    0.090274   \n",
       "\n",
       "                   LinearInterpolation  EqualQuantileWalk  \n",
       "Emissions|BC                  0.049705           0.045927  \n",
       "Emissions|CO                  0.031960          -0.011376  \n",
       "Emissions|F-Gases            -0.038032          -0.061443  \n",
       "Emissions|HFC                -0.063303          -0.067836  \n",
       "Emissions|N2O                 0.300584           0.344806  \n",
       "Emissions|NH3                 0.117625           0.012227  \n",
       "Emissions|NOx                 0.003653           0.012659  \n",
       "Emissions|OC                  0.097163           0.122549  \n",
       "Emissions|PFC                 0.050326           0.061806  \n",
       "Emissions|SF6                -0.005633           0.010008  \n",
       "Emissions|Sulfur              0.031086          -0.006596  \n",
       "Emissions|VOC                 0.084450          -0.030478  "
      ]
     },
     "execution_count": 4,
     "metadata": {},
     "output_type": "execute_result"
    }
   ],
   "source": [
    "difference_res = (CO2_results - CH4_results)\n",
    "difference_res"
   ]
  },
  {
   "cell_type": "markdown",
   "metadata": {},
   "source": [
    "We investigate these visually and using the Shapiro-Wilk test to check for normality."
   ]
  },
  {
   "cell_type": "code",
   "execution_count": 5,
   "metadata": {},
   "outputs": [
    {
     "data": {
      "text/plain": [
       "([array([2., 2., 0., 1., 0., 0., 1., 1., 2., 3.]),\n",
       "  array([7., 4., 1., 0., 0., 0., 0., 0., 0., 0.]),\n",
       "  array([4., 3., 5., 0., 0., 0., 0., 0., 0., 0.]),\n",
       "  array([4., 6., 1., 0., 1., 0., 0., 0., 0., 0.]),\n",
       "  array([6., 4., 1., 0., 1., 0., 0., 0., 0., 0.])],\n",
       " array([-0.08258781,  0.01032808,  0.10324396,  0.19615985,  0.28907574,\n",
       "         0.38199163,  0.47490751,  0.5678234 ,  0.66073929,  0.75365518,\n",
       "         0.84657107]),\n",
       " <a list of 5 Lists of Patches objects>)"
      ]
     },
     "execution_count": 5,
     "metadata": {},
     "output_type": "execute_result"
    },
    {
     "data": {
      "image/png": "[encoded data removed]",
      "text/plain": [
       "<Figure size 1152x648 with 2 Axes>"
      ]
     },
     "metadata": {
      "needs_background": "light"
     },
     "output_type": "display_data"
    }
   ],
   "source": [
    "fig = plt.figure(figsize=(16, 9))\n",
    "ax = plt.subplot(121)\n",
    "plt.hist(CO2_results.values.ravel(), alpha = 0.5, label=\"CO$_2$\")\n",
    "plt.hist(CH4_results.values.ravel(), alpha = 0.5, label=\"CH$_4$\")\n",
    "ax.legend()\n",
    "ax = plt.subplot(122)\n",
    "plt.hist(difference_res.values)"
   ]
  },
  {
   "cell_type": "code",
   "execution_count": 6,
   "metadata": {},
   "outputs": [
    {
     "name": "stdout",
     "output_type": "stream",
     "text": [
      "For TimeDepRatio, CO2 has p-value 0.06285779923200607 and CH4 has 0.050111010670661926\n",
      "For QuantileRollingWindows, CO2 has p-value 0.11986661702394485 and CH4 has 0.4318114221096039\n",
      "For RMSClosest, CO2 has p-value 0.20779410004615784 and CH4 has 0.2776501178741455\n",
      "For LinearInterpolation, CO2 has p-value 0.02942139096558094 and CH4 has 0.12278267741203308\n",
      "For EqualQuantileWalk, CO2 has p-value 0.4230673015117645 and CH4 has 0.35340240597724915\n",
      "For all values together, CO2 has p-value 1.0015436480159678e-08 and CH4 has 0.0032295917626470327\n"
     ]
    }
   ],
   "source": [
    "for col in CO2_results:\n",
    "    stat, pc = stats.shapiro(CO2_results[col])\n",
    "    stat, pm = stats.shapiro(CH4_results[col])\n",
    "    print(\"For {}, CO2 has p-value {} and CH4 has {}\".format(col, pc, pm))\n",
    "stat, pc = stats.shapiro(CO2_results.values)\n",
    "stat, pm = stats.shapiro(CH4_results.values)\n",
    "print(\"For all values together, CO2 has p-value {} and CH4 has {}\".format(pc, pm))"
   ]
  },
  {
   "cell_type": "markdown",
   "metadata": {},
   "source": [
    "It is clear that these statistics violate normality as values << 0.05 are found. We will therefore use the Wilcoxon t-tests."
   ]
  },
  {
   "cell_type": "code",
   "execution_count": 7,
   "metadata": {},
   "outputs": [
    {
     "name": "stdout",
     "output_type": "stream",
     "text": [
      "For column TimeDepRatio we get result WilcoxonResult(statistic=7.0, pvalue=0.012063323418854825)\n",
      "For column QuantileRollingWindows we get result WilcoxonResult(statistic=30.0, pvalue=0.480176889906077)\n",
      "For column RMSClosest we get result WilcoxonResult(statistic=13.0, pvalue=0.041389404009149304)\n",
      "For column LinearInterpolation we get result WilcoxonResult(statistic=15.0, pvalue=0.05973901545539241)\n",
      "For column EqualQuantileWalk we get result WilcoxonResult(statistic=28.0, pvalue=0.38818640520827785)\n"
     ]
    }
   ],
   "source": [
    "# Calculate the t-test statistics for each cruncher\n",
    "for col in CO2_results.columns:\n",
    "    print(\"For column {} we get result {}\".format(col, stats.wilcoxon(CO2_results[col], CH4_results[col])))"
   ]
  },
  {
   "cell_type": "code",
   "execution_count": 8,
   "metadata": {},
   "outputs": [
    {
     "data": {
      "text/plain": [
       "WilcoxonResult(statistic=376.0, pvalue=7.250752330598026e-05)"
      ]
     },
     "execution_count": 8,
     "metadata": {},
     "output_type": "execute_result"
    }
   ],
   "source": [
    "# Calculate the t-test statistics for all data together\n",
    "stats.wilcoxon(CO2_results.values.ravel(), CH4_results.values.ravel())"
   ]
  },
  {
   "cell_type": "markdown",
   "metadata": {},
   "source": [
    "# Calculating the difference between crunchers\n",
    "We can include the CH$_4$ and CO$_2$ results again now, as we are not doing pairwise comparison. "
   ]
  },
  {
   "cell_type": "code",
   "execution_count": 9,
   "metadata": {},
   "outputs": [
    {
     "data": {
      "text/html": [
       "<div>\n",
       "<style scoped>\n",
       "    .dataframe tbody tr th:only-of-type {\n",
       "        vertical-align: middle;\n",
       "    }\n",
       "\n",
       "    .dataframe tbody tr th {\n",
       "        vertical-align: top;\n",
       "    }\n",
       "\n",
       "    .dataframe thead th {\n",
       "        text-align: right;\n",
       "    }\n",
       "</style>\n",
       "<table border=\"1\" class=\"dataframe\">\n",
       "  <thead>\n",
       "    <tr style=\"text-align: right;\">\n",
       "      <th></th>\n",
       "      <th>TimeDepRatio</th>\n",
       "      <th>QuantileRollingWindows</th>\n",
       "      <th>RMSClosest</th>\n",
       "      <th>LinearInterpolation</th>\n",
       "      <th>EqualQuantileWalk</th>\n",
       "    </tr>\n",
       "  </thead>\n",
       "  <tbody>\n",
       "    <tr>\n",
       "      <th>Emissions|BC</th>\n",
       "      <td>1.762679</td>\n",
       "      <td>0.733960</td>\n",
       "      <td>0.668365</td>\n",
       "      <td>1.021198</td>\n",
       "      <td>0.920502</td>\n",
       "    </tr>\n",
       "    <tr>\n",
       "      <th>Emissions|CH4</th>\n",
       "      <td>0.774296</td>\n",
       "      <td>0.460383</td>\n",
       "      <td>0.392151</td>\n",
       "      <td>0.520106</td>\n",
       "      <td>0.500427</td>\n",
       "    </tr>\n",
       "    <tr>\n",
       "      <th>Emissions|CO</th>\n",
       "      <td>2.236335</td>\n",
       "      <td>0.804163</td>\n",
       "      <td>0.764043</td>\n",
       "      <td>1.048605</td>\n",
       "      <td>1.006370</td>\n",
       "    </tr>\n",
       "    <tr>\n",
       "      <th>Emissions|F-Gases</th>\n",
       "      <td>0.576351</td>\n",
       "      <td>0.536862</td>\n",
       "      <td>0.484905</td>\n",
       "      <td>0.619424</td>\n",
       "      <td>0.602951</td>\n",
       "    </tr>\n",
       "    <tr>\n",
       "      <th>Emissions|HFC</th>\n",
       "      <td>0.617586</td>\n",
       "      <td>0.558599</td>\n",
       "      <td>0.511558</td>\n",
       "      <td>0.605727</td>\n",
       "      <td>0.581377</td>\n",
       "    </tr>\n",
       "    <tr>\n",
       "      <th>Emissions|N2O</th>\n",
       "      <td>1.565889</td>\n",
       "      <td>0.644774</td>\n",
       "      <td>0.534779</td>\n",
       "      <td>0.797249</td>\n",
       "      <td>0.785695</td>\n",
       "    </tr>\n",
       "    <tr>\n",
       "      <th>Emissions|NH3</th>\n",
       "      <td>1.680532</td>\n",
       "      <td>0.781498</td>\n",
       "      <td>0.675762</td>\n",
       "      <td>1.075981</td>\n",
       "      <td>1.060212</td>\n",
       "    </tr>\n",
       "    <tr>\n",
       "      <th>Emissions|NOx</th>\n",
       "      <td>1.538197</td>\n",
       "      <td>0.661548</td>\n",
       "      <td>0.605937</td>\n",
       "      <td>0.826352</td>\n",
       "      <td>0.771136</td>\n",
       "    </tr>\n",
       "    <tr>\n",
       "      <th>Emissions|OC</th>\n",
       "      <td>2.062032</td>\n",
       "      <td>0.791709</td>\n",
       "      <td>0.705881</td>\n",
       "      <td>1.068799</td>\n",
       "      <td>1.111797</td>\n",
       "    </tr>\n",
       "    <tr>\n",
       "      <th>Emissions|PFC</th>\n",
       "      <td>0.649296</td>\n",
       "      <td>0.575836</td>\n",
       "      <td>0.440812</td>\n",
       "      <td>0.599843</td>\n",
       "      <td>0.763535</td>\n",
       "    </tr>\n",
       "    <tr>\n",
       "      <th>Emissions|SF6</th>\n",
       "      <td>0.753884</td>\n",
       "      <td>0.653351</td>\n",
       "      <td>0.499366</td>\n",
       "      <td>0.761961</td>\n",
       "      <td>0.809368</td>\n",
       "    </tr>\n",
       "    <tr>\n",
       "      <th>Emissions|Sulfur</th>\n",
       "      <td>0.819068</td>\n",
       "      <td>0.570094</td>\n",
       "      <td>0.494064</td>\n",
       "      <td>0.658498</td>\n",
       "      <td>0.637372</td>\n",
       "    </tr>\n",
       "    <tr>\n",
       "      <th>Emissions|VOC</th>\n",
       "      <td>2.223113</td>\n",
       "      <td>0.811680</td>\n",
       "      <td>0.707894</td>\n",
       "      <td>1.055954</td>\n",
       "      <td>1.007340</td>\n",
       "    </tr>\n",
       "    <tr>\n",
       "      <th>Emissions|BC</th>\n",
       "      <td>1.082026</td>\n",
       "      <td>0.728577</td>\n",
       "      <td>0.656972</td>\n",
       "      <td>0.971493</td>\n",
       "      <td>0.874574</td>\n",
       "    </tr>\n",
       "    <tr>\n",
       "      <th>Emissions|CO</th>\n",
       "      <td>1.410425</td>\n",
       "      <td>0.797876</td>\n",
       "      <td>0.641625</td>\n",
       "      <td>1.016645</td>\n",
       "      <td>1.017746</td>\n",
       "    </tr>\n",
       "    <tr>\n",
       "      <th>Emissions|CO2</th>\n",
       "      <td>0.626197</td>\n",
       "      <td>0.468128</td>\n",
       "      <td>0.447514</td>\n",
       "      <td>0.541110</td>\n",
       "      <td>0.483364</td>\n",
       "    </tr>\n",
       "    <tr>\n",
       "      <th>Emissions|F-Gases</th>\n",
       "      <td>0.658939</td>\n",
       "      <td>0.565370</td>\n",
       "      <td>0.505670</td>\n",
       "      <td>0.657456</td>\n",
       "      <td>0.664394</td>\n",
       "    </tr>\n",
       "    <tr>\n",
       "      <th>Emissions|HFC</th>\n",
       "      <td>0.697087</td>\n",
       "      <td>0.592650</td>\n",
       "      <td>0.471214</td>\n",
       "      <td>0.669029</td>\n",
       "      <td>0.649214</td>\n",
       "    </tr>\n",
       "    <tr>\n",
       "      <th>Emissions|N2O</th>\n",
       "      <td>0.719318</td>\n",
       "      <td>0.457212</td>\n",
       "      <td>0.363928</td>\n",
       "      <td>0.496665</td>\n",
       "      <td>0.440889</td>\n",
       "    </tr>\n",
       "    <tr>\n",
       "      <th>Emissions|NH3</th>\n",
       "      <td>1.134138</td>\n",
       "      <td>0.755961</td>\n",
       "      <td>0.533028</td>\n",
       "      <td>0.958356</td>\n",
       "      <td>1.047985</td>\n",
       "    </tr>\n",
       "    <tr>\n",
       "      <th>Emissions|NOx</th>\n",
       "      <td>0.918826</td>\n",
       "      <td>0.679854</td>\n",
       "      <td>0.624523</td>\n",
       "      <td>0.822698</td>\n",
       "      <td>0.758477</td>\n",
       "    </tr>\n",
       "    <tr>\n",
       "      <th>Emissions|OC</th>\n",
       "      <td>1.317916</td>\n",
       "      <td>0.776761</td>\n",
       "      <td>0.584417</td>\n",
       "      <td>0.971636</td>\n",
       "      <td>0.989248</td>\n",
       "    </tr>\n",
       "    <tr>\n",
       "      <th>Emissions|PFC</th>\n",
       "      <td>0.591658</td>\n",
       "      <td>0.545806</td>\n",
       "      <td>0.311646</td>\n",
       "      <td>0.549517</td>\n",
       "      <td>0.701730</td>\n",
       "    </tr>\n",
       "    <tr>\n",
       "      <th>Emissions|SF6</th>\n",
       "      <td>0.703392</td>\n",
       "      <td>0.632970</td>\n",
       "      <td>0.501719</td>\n",
       "      <td>0.767594</td>\n",
       "      <td>0.799360</td>\n",
       "    </tr>\n",
       "    <tr>\n",
       "      <th>Emissions|Sulfur</th>\n",
       "      <td>0.610091</td>\n",
       "      <td>0.579805</td>\n",
       "      <td>0.508087</td>\n",
       "      <td>0.627412</td>\n",
       "      <td>0.643968</td>\n",
       "    </tr>\n",
       "    <tr>\n",
       "      <th>Emissions|VOC</th>\n",
       "      <td>1.398074</td>\n",
       "      <td>0.802437</td>\n",
       "      <td>0.617620</td>\n",
       "      <td>0.971504</td>\n",
       "      <td>1.037818</td>\n",
       "    </tr>\n",
       "  </tbody>\n",
       "</table>\n",
       "</div>"
      ],
      "text/plain": [
       "                   TimeDepRatio  QuantileRollingWindows  RMSClosest  \\\n",
       "Emissions|BC           1.762679                0.733960    0.668365   \n",
       "Emissions|CH4          0.774296                0.460383    0.392151   \n",
       "Emissions|CO           2.236335                0.804163    0.764043   \n",
       "Emissions|F-Gases      0.576351                0.536862    0.484905   \n",
       "Emissions|HFC          0.617586                0.558599    0.511558   \n",
       "Emissions|N2O          1.565889                0.644774    0.534779   \n",
       "Emissions|NH3          1.680532                0.781498    0.675762   \n",
       "Emissions|NOx          1.538197                0.661548    0.605937   \n",
       "Emissions|OC           2.062032                0.791709    0.705881   \n",
       "Emissions|PFC          0.649296                0.575836    0.440812   \n",
       "Emissions|SF6          0.753884                0.653351    0.499366   \n",
       "Emissions|Sulfur       0.819068                0.570094    0.494064   \n",
       "Emissions|VOC          2.223113                0.811680    0.707894   \n",
       "Emissions|BC           1.082026                0.728577    0.656972   \n",
       "Emissions|CO           1.410425                0.797876    0.641625   \n",
       "Emissions|CO2          0.626197                0.468128    0.447514   \n",
       "Emissions|F-Gases      0.658939                0.565370    0.505670   \n",
       "Emissions|HFC          0.697087                0.592650    0.471214   \n",
       "Emissions|N2O          0.719318                0.457212    0.363928   \n",
       "Emissions|NH3          1.134138                0.755961    0.533028   \n",
       "Emissions|NOx          0.918826                0.679854    0.624523   \n",
       "Emissions|OC           1.317916                0.776761    0.584417   \n",
       "Emissions|PFC          0.591658                0.545806    0.311646   \n",
       "Emissions|SF6          0.703392                0.632970    0.501719   \n",
       "Emissions|Sulfur       0.610091                0.579805    0.508087   \n",
       "Emissions|VOC          1.398074                0.802437    0.617620   \n",
       "\n",
       "                   LinearInterpolation  EqualQuantileWalk  \n",
       "Emissions|BC                  1.021198           0.920502  \n",
       "Emissions|CH4                 0.520106           0.500427  \n",
       "Emissions|CO                  1.048605           1.006370  \n",
       "Emissions|F-Gases             0.619424           0.602951  \n",
       "Emissions|HFC                 0.605727           0.581377  \n",
       "Emissions|N2O                 0.797249           0.785695  \n",
       "Emissions|NH3                 1.075981           1.060212  \n",
       "Emissions|NOx                 0.826352           0.771136  \n",
       "Emissions|OC                  1.068799           1.111797  \n",
       "Emissions|PFC                 0.599843           0.763535  \n",
       "Emissions|SF6                 0.761961           0.809368  \n",
       "Emissions|Sulfur              0.658498           0.637372  \n",
       "Emissions|VOC                 1.055954           1.007340  \n",
       "Emissions|BC                  0.971493           0.874574  \n",
       "Emissions|CO                  1.016645           1.017746  \n",
       "Emissions|CO2                 0.541110           0.483364  \n",
       "Emissions|F-Gases             0.657456           0.664394  \n",
       "Emissions|HFC                 0.669029           0.649214  \n",
       "Emissions|N2O                 0.496665           0.440889  \n",
       "Emissions|NH3                 0.958356           1.047985  \n",
       "Emissions|NOx                 0.822698           0.758477  \n",
       "Emissions|OC                  0.971636           0.989248  \n",
       "Emissions|PFC                 0.549517           0.701730  \n",
       "Emissions|SF6                 0.767594           0.799360  \n",
       "Emissions|Sulfur              0.627412           0.643968  \n",
       "Emissions|VOC                 0.971504           1.037818  "
      ]
     },
     "execution_count": 9,
     "metadata": {},
     "output_type": "execute_result"
    }
   ],
   "source": [
    "all_results = CO2_results_orig.append(CH4_results_orig)\n",
    "all_results"
   ]
  },
  {
   "cell_type": "markdown",
   "metadata": {},
   "source": [
    "Test for normality:"
   ]
  },
  {
   "cell_type": "code",
   "execution_count": 10,
   "metadata": {},
   "outputs": [
    {
     "name": "stdout",
     "output_type": "stream",
     "text": [
      "(0.8575218915939331, 0.0019973914604634047)\n",
      "(0.9216777086257935, 0.04923069477081299)\n",
      "(0.9766243696212769, 0.7954659461975098)\n",
      "(0.9038967490196228, 0.019150035455822945)\n",
      "(0.9486953616142273, 0.21611006557941437)\n"
     ]
    }
   ],
   "source": [
    "for col in all_results:\n",
    "    print(stats.shapiro(all_results[col]))"
   ]
  },
  {
   "cell_type": "code",
   "execution_count": 11,
   "metadata": {},
   "outputs": [
    {
     "data": {
      "text/plain": [
       "(0.792113721370697, 2.721388869461605e-12)"
      ]
     },
     "execution_count": 11,
     "metadata": {},
     "output_type": "execute_result"
    }
   ],
   "source": [
    "stats.shapiro(all_results)"
   ]
  },
  {
   "cell_type": "markdown",
   "metadata": {},
   "source": [
    "The individual cruncher results are again non-normal, necessitating Wilcoxon's test rather than a student t-test. We can now do pairwise comparisons of the crunchers: "
   ]
  },
  {
   "cell_type": "code",
   "execution_count": 12,
   "metadata": {},
   "outputs": [],
   "source": [
    "results_all = []\n",
    "results_CO2 = []\n",
    "results_CH4 = []\n",
    "column_combo = combinations(all_results.columns, 2)\n",
    "for col1, col2 in column_combo:\n",
    "    results_all.append([col1, col2, stats.wilcoxon(all_results[col1], all_results[col2]).pvalue])\n",
    "    results_CO2.append([col1, col2, stats.wilcoxon(CO2_results_orig[col1], CO2_results_orig[col2]).pvalue])\n",
    "    results_CH4.append([col1, col2, stats.wilcoxon(CH4_results_orig[col1], CH4_results_orig[col2]).pvalue])"
   ]
  },
  {
   "cell_type": "code",
   "execution_count": 13,
   "metadata": {},
   "outputs": [
    {
     "data": {
      "text/plain": [
       "[['TimeDepRatio', 'QuantileRollingWindows', 8.29809930635731e-06],\n",
       " ['TimeDepRatio', 'RMSClosest', 8.29809930635731e-06],\n",
       " ['TimeDepRatio', 'LinearInterpolation', 9.67546354728976e-05],\n",
       " ['TimeDepRatio', 'EqualQuantileWalk', 0.0005266468058223855],\n",
       " ['QuantileRollingWindows', 'RMSClosest', 8.29809930635731e-06],\n",
       " ['QuantileRollingWindows', 'LinearInterpolation', 8.29809930635731e-06],\n",
       " ['QuantileRollingWindows', 'EqualQuantileWalk', 1.050305306647201e-05],\n",
       " ['RMSClosest', 'LinearInterpolation', 8.29809930635731e-06],\n",
       " ['RMSClosest', 'EqualQuantileWalk', 8.29809930635731e-06],\n",
       " ['LinearInterpolation', 'EqualQuantileWalk', 0.5337772019665354]]"
      ]
     },
     "execution_count": 13,
     "metadata": {},
     "output_type": "execute_result"
    }
   ],
   "source": [
    "results_all"
   ]
  },
  {
   "cell_type": "code",
   "execution_count": 14,
   "metadata": {},
   "outputs": [
    {
     "data": {
      "text/plain": [
       "[['TimeDepRatio', 'QuantileRollingWindows', 0.0014737808438751421],\n",
       " ['TimeDepRatio', 'RMSClosest', 0.0014737808438751421],\n",
       " ['TimeDepRatio', 'LinearInterpolation', 0.007132413699395206],\n",
       " ['TimeDepRatio', 'EqualQuantileWalk', 0.027707849358079864],\n",
       " ['QuantileRollingWindows', 'RMSClosest', 0.0014737808438751421],\n",
       " ['QuantileRollingWindows', 'LinearInterpolation', 0.0014737808438751421],\n",
       " ['QuantileRollingWindows', 'EqualQuantileWalk', 0.0023655770533978757],\n",
       " ['RMSClosest', 'LinearInterpolation', 0.0014737808438751421],\n",
       " ['RMSClosest', 'EqualQuantileWalk', 0.0014737808438751421],\n",
       " ['LinearInterpolation', 'EqualQuantileWalk', 0.7531523647659145]]"
      ]
     },
     "execution_count": 14,
     "metadata": {},
     "output_type": "execute_result"
    }
   ],
   "source": [
    "results_CH4"
   ]
  },
  {
   "cell_type": "code",
   "execution_count": 15,
   "metadata": {},
   "outputs": [
    {
     "data": {
      "text/plain": [
       "[['TimeDepRatio', 'QuantileRollingWindows', 0.0014737808438751421],\n",
       " ['TimeDepRatio', 'RMSClosest', 0.0014737808438751421],\n",
       " ['TimeDepRatio', 'LinearInterpolation', 0.0037285953227358883],\n",
       " ['TimeDepRatio', 'EqualQuantileWalk', 0.008774633060101173],\n",
       " ['QuantileRollingWindows', 'RMSClosest', 0.0014737808438751421],\n",
       " ['QuantileRollingWindows', 'LinearInterpolation', 0.0014737808438751421],\n",
       " ['QuantileRollingWindows', 'EqualQuantileWalk', 0.0014737808438751421],\n",
       " ['RMSClosest', 'LinearInterpolation', 0.0014737808438751421],\n",
       " ['RMSClosest', 'EqualQuantileWalk', 0.0014737808438751421],\n",
       " ['LinearInterpolation', 'EqualQuantileWalk', 0.2787073832496024]]"
      ]
     },
     "execution_count": 15,
     "metadata": {},
     "output_type": "execute_result"
    }
   ],
   "source": [
    "results_CO2"
   ]
  },
  {
   "cell_type": "code",
   "execution_count": 16,
   "metadata": {},
   "outputs": [
    {
     "data": {
      "text/plain": [
       "TimeDepRatio              1.120282\n",
       "QuantileRollingWindows    0.652610\n",
       "RMSClosest                0.548211\n",
       "LinearInterpolation       0.795416\n",
       "EqualQuantileWalk         0.794879\n",
       "dtype: float64"
      ]
     },
     "execution_count": 16,
     "metadata": {},
     "output_type": "execute_result"
    }
   ],
   "source": [
    "all_results.mean()"
   ]
  },
  {
   "cell_type": "markdown",
   "metadata": {},
   "source": [
    "We can see that there are statistically significantly different means between all the crunchers except LinearInterpolation and EQW for either lead gas or both together. "
   ]
  }
 ],
 "metadata": {
  "kernelspec": {
   "display_name": "Python 3",
   "language": "python",
   "name": "python3"
  },
  "language_info": {
   "codemirror_mode": {
    "name": "ipython",
    "version": 3
   },
   "file_extension": ".py",
   "mimetype": "text/x-python",
   "name": "python",
   "nbconvert_exporter": "python",
   "pygments_lexer": "ipython3",
   "version": "3.7.6"
  }
 },
 "nbformat": 4,
 "nbformat_minor": 4
}

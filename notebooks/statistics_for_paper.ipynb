{
 "cells": [
  {
   "cell_type": "markdown",
   "metadata": {},
   "source": [
    "# Statistical tests for \"Silicone: an open-source Python package for inferring missing emissions data for climate change research\"\n",
    "This notebook is where results that require exploration of the data outside of the silicone package were calculated. The results that go into this notebook were derived by running the script `scripts/compare_crunchers.py`. "
   ]
  },
  {
   "cell_type": "code",
   "execution_count": 1,
   "metadata": {},
   "outputs": [],
   "source": [
    "import pandas as pd\n",
    "import numpy as np\n",
    "import matplotlib.pyplot as plt\n",
    "from scipy import stats\n",
    "from itertools import combinations"
   ]
  },
  {
   "cell_type": "code",
   "execution_count": 2,
   "metadata": {},
   "outputs": [],
   "source": [
    "CO2_results_orig = pd.read_csv(\"../input/CruncherComparisonLead_CO2.csv\", index_col=0)\n",
    "CH4_results_orig = pd.read_csv(\"../input/CruncherComparisonLead_CH4.csv\", index_col=0)"
   ]
  },
  {
   "cell_type": "markdown",
   "metadata": {},
   "source": [
    "## Calculating the difference between infilling with CO2 and CH4 emissions\n",
    "We can't compare the values with CO2 or CH4 itself, as they are only found in one of the two datasets, so we start by removing them. "
   ]
  },
  {
   "cell_type": "code",
   "execution_count": 3,
   "metadata": {},
   "outputs": [],
   "source": [
    "to_drop = [\"Emissions|CO2\", \"Emissions|CH4\"]\n",
    "CO2_results = CO2_results_orig.drop(to_drop, errors=\"ignore\")\n",
    "CH4_results = CH4_results_orig.drop(to_drop, errors=\"ignore\")"
   ]
  },
  {
   "cell_type": "markdown",
   "metadata": {},
   "source": [
    "We can now calculate the difference"
   ]
  },
  {
   "cell_type": "code",
   "execution_count": 4,
   "metadata": {},
   "outputs": [
    {
     "data": {
      "text/html": [
       "<div>\n",
       "<style scoped>\n",
       "    .dataframe tbody tr th:only-of-type {\n",
       "        vertical-align: middle;\n",
       "    }\n",
       "\n",
       "    .dataframe tbody tr th {\n",
       "        vertical-align: top;\n",
       "    }\n",
       "\n",
       "    .dataframe thead th {\n",
       "        text-align: right;\n",
       "    }\n",
       "</style>\n",
       "<table border=\"1\" class=\"dataframe\">\n",
       "  <thead>\n",
       "    <tr style=\"text-align: right;\">\n",
       "      <th></th>\n",
       "      <th>QuantileRollingWindows</th>\n",
       "      <th>RMSClosest</th>\n",
       "      <th>LinearInterpolation</th>\n",
       "      <th>EqualQuantileWalk</th>\n",
       "    </tr>\n",
       "  </thead>\n",
       "  <tbody>\n",
       "    <tr>\n",
       "      <th>Emissions|BC</th>\n",
       "      <td>0.001082</td>\n",
       "      <td>0.003908</td>\n",
       "      <td>0.008356</td>\n",
       "      <td>0.006009</td>\n",
       "    </tr>\n",
       "    <tr>\n",
       "      <th>Emissions|CO</th>\n",
       "      <td>0.001044</td>\n",
       "      <td>0.021310</td>\n",
       "      <td>0.005379</td>\n",
       "      <td>-0.002127</td>\n",
       "    </tr>\n",
       "    <tr>\n",
       "      <th>Emissions|F-Gases</th>\n",
       "      <td>-0.005316</td>\n",
       "      <td>-0.004709</td>\n",
       "      <td>-0.006543</td>\n",
       "      <td>-0.011260</td>\n",
       "    </tr>\n",
       "    <tr>\n",
       "      <th>Emissions|HFC</th>\n",
       "      <td>-0.010724</td>\n",
       "      <td>0.011296</td>\n",
       "      <td>-0.017329</td>\n",
       "      <td>-0.018573</td>\n",
       "    </tr>\n",
       "    <tr>\n",
       "      <th>Emissions|N2O</th>\n",
       "      <td>0.032117</td>\n",
       "      <td>0.029422</td>\n",
       "      <td>0.051840</td>\n",
       "      <td>0.059061</td>\n",
       "    </tr>\n",
       "    <tr>\n",
       "      <th>Emissions|NH3</th>\n",
       "      <td>0.005295</td>\n",
       "      <td>0.032770</td>\n",
       "      <td>0.026440</td>\n",
       "      <td>0.001498</td>\n",
       "    </tr>\n",
       "    <tr>\n",
       "      <th>Emissions|NOx</th>\n",
       "      <td>-0.003443</td>\n",
       "      <td>-0.003901</td>\n",
       "      <td>0.000387</td>\n",
       "      <td>0.001834</td>\n",
       "    </tr>\n",
       "    <tr>\n",
       "      <th>Emissions|OC</th>\n",
       "      <td>0.002656</td>\n",
       "      <td>0.021998</td>\n",
       "      <td>0.017794</td>\n",
       "      <td>0.022770</td>\n",
       "    </tr>\n",
       "    <tr>\n",
       "      <th>Emissions|PFC</th>\n",
       "      <td>0.010144</td>\n",
       "      <td>0.035372</td>\n",
       "      <td>0.012306</td>\n",
       "      <td>0.008392</td>\n",
       "    </tr>\n",
       "    <tr>\n",
       "      <th>Emissions|SF6</th>\n",
       "      <td>0.005139</td>\n",
       "      <td>-0.001192</td>\n",
       "      <td>-0.001571</td>\n",
       "      <td>0.003733</td>\n",
       "    </tr>\n",
       "    <tr>\n",
       "      <th>Emissions|Sulfur</th>\n",
       "      <td>-0.002395</td>\n",
       "      <td>-0.002794</td>\n",
       "      <td>0.004126</td>\n",
       "      <td>-0.001876</td>\n",
       "    </tr>\n",
       "    <tr>\n",
       "      <th>Emissions|VOC</th>\n",
       "      <td>0.002109</td>\n",
       "      <td>0.018575</td>\n",
       "      <td>0.017813</td>\n",
       "      <td>-0.005670</td>\n",
       "    </tr>\n",
       "  </tbody>\n",
       "</table>\n",
       "</div>"
      ],
      "text/plain": [
       "                   QuantileRollingWindows  RMSClosest  LinearInterpolation  \\\n",
       "Emissions|BC                     0.001082    0.003908             0.008356   \n",
       "Emissions|CO                     0.001044    0.021310             0.005379   \n",
       "Emissions|F-Gases               -0.005316   -0.004709            -0.006543   \n",
       "Emissions|HFC                   -0.010724    0.011296            -0.017329   \n",
       "Emissions|N2O                    0.032117    0.029422             0.051840   \n",
       "Emissions|NH3                    0.005295    0.032770             0.026440   \n",
       "Emissions|NOx                   -0.003443   -0.003901             0.000387   \n",
       "Emissions|OC                     0.002656    0.021998             0.017794   \n",
       "Emissions|PFC                    0.010144    0.035372             0.012306   \n",
       "Emissions|SF6                    0.005139   -0.001192            -0.001571   \n",
       "Emissions|Sulfur                -0.002395   -0.002794             0.004126   \n",
       "Emissions|VOC                    0.002109    0.018575             0.017813   \n",
       "\n",
       "                   EqualQuantileWalk  \n",
       "Emissions|BC                0.006009  \n",
       "Emissions|CO               -0.002127  \n",
       "Emissions|F-Gases          -0.011260  \n",
       "Emissions|HFC              -0.018573  \n",
       "Emissions|N2O               0.059061  \n",
       "Emissions|NH3               0.001498  \n",
       "Emissions|NOx               0.001834  \n",
       "Emissions|OC                0.022770  \n",
       "Emissions|PFC               0.008392  \n",
       "Emissions|SF6               0.003733  \n",
       "Emissions|Sulfur           -0.001876  \n",
       "Emissions|VOC              -0.005670  "
      ]
     },
     "execution_count": 4,
     "metadata": {},
     "output_type": "execute_result"
    }
   ],
   "source": [
    "difference_res = (CO2_results - CH4_results)\n",
    "difference_res"
   ]
  },
  {
   "cell_type": "markdown",
   "metadata": {},
   "source": [
    "We investigate these visually and using the Shapiro-Wilk test to check for normality."
   ]
  },
  {
   "cell_type": "code",
   "execution_count": 5,
   "metadata": {},
   "outputs": [
    {
     "data": {
      "text/plain": [
       "([array([0., 3., 5., 3., 0., 0., 1., 0., 0., 0.]),\n",
       "  array([0., 2., 3., 1., 1., 2., 3., 0., 0., 0.]),\n",
       "  array([1., 1., 3., 3., 2., 1., 0., 0., 0., 1.]),\n",
       "  array([2., 1., 5., 2., 0., 1., 0., 0., 0., 1.])],\n",
       " array([-0.01857339, -0.01080995, -0.00304651,  0.00471693,  0.01248037,\n",
       "         0.02024382,  0.02800726,  0.0357707 ,  0.04353414,  0.05129758,\n",
       "         0.05906102]),\n",
       " <a list of 4 Lists of Patches objects>)"
      ]
     },
     "execution_count": 5,
     "metadata": {},
     "output_type": "execute_result"
    },
    {
     "data": {
      "image/png": "[encoded data removed]",
      "text/plain": [
       "<Figure size 1152x648 with 2 Axes>"
      ]
     },
     "metadata": {
      "needs_background": "light"
     },
     "output_type": "display_data"
    }
   ],
   "source": [
    "fig = plt.figure(figsize=(16, 9))\n",
    "ax = plt.subplot(121)\n",
    "plt.hist(CO2_results.values.ravel(), alpha = 0.5, label=\"CO$_2$\")\n",
    "plt.hist(CH4_results.values.ravel(), alpha = 0.5, label=\"CH$_4$\")\n",
    "ax.legend()\n",
    "ax = plt.subplot(122)\n",
    "plt.hist(difference_res.values)"
   ]
  },
  {
   "cell_type": "code",
   "execution_count": 6,
   "metadata": {},
   "outputs": [
    {
     "name": "stdout",
     "output_type": "stream",
     "text": [
      "For QuantileRollingWindows, CO2 has p-value 0.5874438285827637 and CH4 has 0.5447216629981995\n",
      "For RMSClosest, CO2 has p-value 0.3771918714046478 and CH4 has 0.14585840702056885\n",
      "For LinearInterpolation, CO2 has p-value 0.6368917226791382 and CH4 has 0.30852824449539185\n",
      "For EqualQuantileWalk, CO2 has p-value 0.7375144958496094 and CH4 has 0.9932032823562622\n",
      "For all values together, CO2 has p-value 0.09097215533256531 and CH4 has 0.3718019127845764\n"
     ]
    }
   ],
   "source": [
    "for col in CO2_results:\n",
    "    stat, pc = stats.shapiro(CO2_results[col])\n",
    "    stat, pm = stats.shapiro(CH4_results[col])\n",
    "    print(\"For {}, CO2 has p-value {} and CH4 has {}\".format(col, pc, pm))\n",
    "stat, pc = stats.shapiro(CO2_results.values)\n",
    "stat, pm = stats.shapiro(CH4_results.values)\n",
    "print(\"For all values together, CO2 has p-value {} and CH4 has {}\".format(pc, pm))"
   ]
  },
  {
   "cell_type": "markdown",
   "metadata": {},
   "source": [
    "All values exceed 0.05, so it appears that we can safely assume a Gaussian spread for doing statistics. "
   ]
  },
  {
   "cell_type": "code",
   "execution_count": 7,
   "metadata": {},
   "outputs": [
    {
     "data": {
      "text/plain": [
       "Ttest_relResult(statistic=array([1.02320263, 3.11892134, 1.93877008, 0.93077944]), pvalue=array([0.32818794, 0.00976877, 0.07860579, 0.37194494]))"
      ]
     },
     "execution_count": 7,
     "metadata": {},
     "output_type": "execute_result"
    }
   ],
   "source": [
    "# Calculate the t-test statistics for each cruncher\n",
    "stats.ttest_rel(CO2_results.values, CH4_results.values)"
   ]
  },
  {
   "cell_type": "code",
   "execution_count": 8,
   "metadata": {},
   "outputs": [
    {
     "data": {
      "text/plain": [
       "Ttest_relResult(statistic=3.4193737300660745, pvalue=0.0013067333626455874)"
      ]
     },
     "execution_count": 8,
     "metadata": {},
     "output_type": "execute_result"
    }
   ],
   "source": [
    "# Calculate the t-test statistics for all data together\n",
    "stats.ttest_rel(CO2_results.values.ravel(), CH4_results.values.ravel())"
   ]
  },
  {
   "cell_type": "markdown",
   "metadata": {},
   "source": [
    "# Calculating the difference between crunchers"
   ]
  },
  {
   "cell_type": "code",
   "execution_count": 9,
   "metadata": {},
   "outputs": [
    {
     "data": {
      "text/html": [
       "<div>\n",
       "<style scoped>\n",
       "    .dataframe tbody tr th:only-of-type {\n",
       "        vertical-align: middle;\n",
       "    }\n",
       "\n",
       "    .dataframe tbody tr th {\n",
       "        vertical-align: top;\n",
       "    }\n",
       "\n",
       "    .dataframe thead th {\n",
       "        text-align: right;\n",
       "    }\n",
       "</style>\n",
       "<table border=\"1\" class=\"dataframe\">\n",
       "  <thead>\n",
       "    <tr style=\"text-align: right;\">\n",
       "      <th></th>\n",
       "      <th>QuantileRollingWindows</th>\n",
       "      <th>RMSClosest</th>\n",
       "      <th>LinearInterpolation</th>\n",
       "      <th>EqualQuantileWalk</th>\n",
       "    </tr>\n",
       "  </thead>\n",
       "  <tbody>\n",
       "    <tr>\n",
       "      <th>Emissions|BC</th>\n",
       "      <td>0.129157</td>\n",
       "      <td>0.118940</td>\n",
       "      <td>0.176855</td>\n",
       "      <td>0.161039</td>\n",
       "    </tr>\n",
       "    <tr>\n",
       "      <th>Emissions|CH4</th>\n",
       "      <td>0.085871</td>\n",
       "      <td>0.072788</td>\n",
       "      <td>0.096929</td>\n",
       "      <td>0.093807</td>\n",
       "    </tr>\n",
       "    <tr>\n",
       "      <th>Emissions|CO</th>\n",
       "      <td>0.140090</td>\n",
       "      <td>0.133444</td>\n",
       "      <td>0.182223</td>\n",
       "      <td>0.175247</td>\n",
       "    </tr>\n",
       "    <tr>\n",
       "      <th>Emissions|F-Gases</th>\n",
       "      <td>0.106261</td>\n",
       "      <td>0.094665</td>\n",
       "      <td>0.125233</td>\n",
       "      <td>0.118164</td>\n",
       "    </tr>\n",
       "    <tr>\n",
       "      <th>Emissions|HFC</th>\n",
       "      <td>0.152433</td>\n",
       "      <td>0.140330</td>\n",
       "      <td>0.165032</td>\n",
       "      <td>0.159283</td>\n",
       "    </tr>\n",
       "    <tr>\n",
       "      <th>Emissions|N2O</th>\n",
       "      <td>0.110363</td>\n",
       "      <td>0.091487</td>\n",
       "      <td>0.136481</td>\n",
       "      <td>0.134480</td>\n",
       "    </tr>\n",
       "    <tr>\n",
       "      <th>Emissions|NH3</th>\n",
       "      <td>0.174929</td>\n",
       "      <td>0.151405</td>\n",
       "      <td>0.239547</td>\n",
       "      <td>0.240262</td>\n",
       "    </tr>\n",
       "    <tr>\n",
       "      <th>Emissions|NOx</th>\n",
       "      <td>0.103714</td>\n",
       "      <td>0.094937</td>\n",
       "      <td>0.131779</td>\n",
       "      <td>0.120640</td>\n",
       "    </tr>\n",
       "    <tr>\n",
       "      <th>Emissions|OC</th>\n",
       "      <td>0.144260</td>\n",
       "      <td>0.128828</td>\n",
       "      <td>0.196234</td>\n",
       "      <td>0.202308</td>\n",
       "    </tr>\n",
       "    <tr>\n",
       "      <th>Emissions|PFC</th>\n",
       "      <td>0.132374</td>\n",
       "      <td>0.100929</td>\n",
       "      <td>0.119947</td>\n",
       "      <td>0.162719</td>\n",
       "    </tr>\n",
       "    <tr>\n",
       "      <th>Emissions|SF6</th>\n",
       "      <td>0.165986</td>\n",
       "      <td>0.126178</td>\n",
       "      <td>0.195535</td>\n",
       "      <td>0.206680</td>\n",
       "    </tr>\n",
       "    <tr>\n",
       "      <th>Emissions|Sulfur</th>\n",
       "      <td>0.093538</td>\n",
       "      <td>0.081407</td>\n",
       "      <td>0.108459</td>\n",
       "      <td>0.104091</td>\n",
       "    </tr>\n",
       "    <tr>\n",
       "      <th>Emissions|VOC</th>\n",
       "      <td>0.167499</td>\n",
       "      <td>0.144497</td>\n",
       "      <td>0.213287</td>\n",
       "      <td>0.208127</td>\n",
       "    </tr>\n",
       "    <tr>\n",
       "      <th>Emissions|BC</th>\n",
       "      <td>0.128075</td>\n",
       "      <td>0.115033</td>\n",
       "      <td>0.168499</td>\n",
       "      <td>0.155030</td>\n",
       "    </tr>\n",
       "    <tr>\n",
       "      <th>Emissions|CO</th>\n",
       "      <td>0.139046</td>\n",
       "      <td>0.112133</td>\n",
       "      <td>0.176844</td>\n",
       "      <td>0.177374</td>\n",
       "    </tr>\n",
       "    <tr>\n",
       "      <th>Emissions|CO2</th>\n",
       "      <td>0.087314</td>\n",
       "      <td>0.082608</td>\n",
       "      <td>0.103887</td>\n",
       "      <td>0.088797</td>\n",
       "    </tr>\n",
       "    <tr>\n",
       "      <th>Emissions|F-Gases</th>\n",
       "      <td>0.111577</td>\n",
       "      <td>0.099374</td>\n",
       "      <td>0.131776</td>\n",
       "      <td>0.129424</td>\n",
       "    </tr>\n",
       "    <tr>\n",
       "      <th>Emissions|HFC</th>\n",
       "      <td>0.163157</td>\n",
       "      <td>0.129034</td>\n",
       "      <td>0.182361</td>\n",
       "      <td>0.177856</td>\n",
       "    </tr>\n",
       "    <tr>\n",
       "      <th>Emissions|N2O</th>\n",
       "      <td>0.078246</td>\n",
       "      <td>0.062065</td>\n",
       "      <td>0.084641</td>\n",
       "      <td>0.075419</td>\n",
       "    </tr>\n",
       "    <tr>\n",
       "      <th>Emissions|NH3</th>\n",
       "      <td>0.169633</td>\n",
       "      <td>0.118636</td>\n",
       "      <td>0.213107</td>\n",
       "      <td>0.238763</td>\n",
       "    </tr>\n",
       "    <tr>\n",
       "      <th>Emissions|NOx</th>\n",
       "      <td>0.107157</td>\n",
       "      <td>0.098838</td>\n",
       "      <td>0.131392</td>\n",
       "      <td>0.118805</td>\n",
       "    </tr>\n",
       "    <tr>\n",
       "      <th>Emissions|OC</th>\n",
       "      <td>0.141605</td>\n",
       "      <td>0.106830</td>\n",
       "      <td>0.178440</td>\n",
       "      <td>0.179538</td>\n",
       "    </tr>\n",
       "    <tr>\n",
       "      <th>Emissions|PFC</th>\n",
       "      <td>0.122230</td>\n",
       "      <td>0.065557</td>\n",
       "      <td>0.107641</td>\n",
       "      <td>0.154327</td>\n",
       "    </tr>\n",
       "    <tr>\n",
       "      <th>Emissions|SF6</th>\n",
       "      <td>0.160847</td>\n",
       "      <td>0.127369</td>\n",
       "      <td>0.197107</td>\n",
       "      <td>0.202947</td>\n",
       "    </tr>\n",
       "    <tr>\n",
       "      <th>Emissions|Sulfur</th>\n",
       "      <td>0.095934</td>\n",
       "      <td>0.084201</td>\n",
       "      <td>0.104334</td>\n",
       "      <td>0.105967</td>\n",
       "    </tr>\n",
       "    <tr>\n",
       "      <th>Emissions|VOC</th>\n",
       "      <td>0.165390</td>\n",
       "      <td>0.125922</td>\n",
       "      <td>0.195474</td>\n",
       "      <td>0.213797</td>\n",
       "    </tr>\n",
       "  </tbody>\n",
       "</table>\n",
       "</div>"
      ],
      "text/plain": [
       "                   QuantileRollingWindows  RMSClosest  LinearInterpolation  \\\n",
       "Emissions|BC                     0.129157    0.118940             0.176855   \n",
       "Emissions|CH4                    0.085871    0.072788             0.096929   \n",
       "Emissions|CO                     0.140090    0.133444             0.182223   \n",
       "Emissions|F-Gases                0.106261    0.094665             0.125233   \n",
       "Emissions|HFC                    0.152433    0.140330             0.165032   \n",
       "Emissions|N2O                    0.110363    0.091487             0.136481   \n",
       "Emissions|NH3                    0.174929    0.151405             0.239547   \n",
       "Emissions|NOx                    0.103714    0.094937             0.131779   \n",
       "Emissions|OC                     0.144260    0.128828             0.196234   \n",
       "Emissions|PFC                    0.132374    0.100929             0.119947   \n",
       "Emissions|SF6                    0.165986    0.126178             0.195535   \n",
       "Emissions|Sulfur                 0.093538    0.081407             0.108459   \n",
       "Emissions|VOC                    0.167499    0.144497             0.213287   \n",
       "Emissions|BC                     0.128075    0.115033             0.168499   \n",
       "Emissions|CO                     0.139046    0.112133             0.176844   \n",
       "Emissions|CO2                    0.087314    0.082608             0.103887   \n",
       "Emissions|F-Gases                0.111577    0.099374             0.131776   \n",
       "Emissions|HFC                    0.163157    0.129034             0.182361   \n",
       "Emissions|N2O                    0.078246    0.062065             0.084641   \n",
       "Emissions|NH3                    0.169633    0.118636             0.213107   \n",
       "Emissions|NOx                    0.107157    0.098838             0.131392   \n",
       "Emissions|OC                     0.141605    0.106830             0.178440   \n",
       "Emissions|PFC                    0.122230    0.065557             0.107641   \n",
       "Emissions|SF6                    0.160847    0.127369             0.197107   \n",
       "Emissions|Sulfur                 0.095934    0.084201             0.104334   \n",
       "Emissions|VOC                    0.165390    0.125922             0.195474   \n",
       "\n",
       "                   EqualQuantileWalk  \n",
       "Emissions|BC                0.161039  \n",
       "Emissions|CH4               0.093807  \n",
       "Emissions|CO                0.175247  \n",
       "Emissions|F-Gases           0.118164  \n",
       "Emissions|HFC               0.159283  \n",
       "Emissions|N2O               0.134480  \n",
       "Emissions|NH3               0.240262  \n",
       "Emissions|NOx               0.120640  \n",
       "Emissions|OC                0.202308  \n",
       "Emissions|PFC               0.162719  \n",
       "Emissions|SF6               0.206680  \n",
       "Emissions|Sulfur            0.104091  \n",
       "Emissions|VOC               0.208127  \n",
       "Emissions|BC                0.155030  \n",
       "Emissions|CO                0.177374  \n",
       "Emissions|CO2               0.088797  \n",
       "Emissions|F-Gases           0.129424  \n",
       "Emissions|HFC               0.177856  \n",
       "Emissions|N2O               0.075419  \n",
       "Emissions|NH3               0.238763  \n",
       "Emissions|NOx               0.118805  \n",
       "Emissions|OC                0.179538  \n",
       "Emissions|PFC               0.154327  \n",
       "Emissions|SF6               0.202947  \n",
       "Emissions|Sulfur            0.105967  \n",
       "Emissions|VOC               0.213797  "
      ]
     },
     "execution_count": 9,
     "metadata": {},
     "output_type": "execute_result"
    }
   ],
   "source": [
    "all_results = CO2_results_orig.append(CH4_results_orig)\n",
    "all_results"
   ]
  },
  {
   "cell_type": "code",
   "execution_count": 10,
   "metadata": {},
   "outputs": [],
   "source": [
    "results_all = []\n",
    "results_CO2 = []\n",
    "results_CH4 = []\n",
    "column_combo = combinations(all_results.columns, 2)\n",
    "for col1, col2 in column_combo:\n",
    "    results_all.append([col1, col2, stats.ttest_rel(all_results[col1], all_results[col2]).pvalue])\n",
    "    results_CO2.append([col1, col2, stats.ttest_rel(CO2_results_orig[col1], CO2_results_orig[col2]).pvalue])\n",
    "    results_CH4.append([col1, col2, stats.ttest_rel(CH4_results_orig[col1], CH4_results_orig[col2]).pvalue])"
   ]
  },
  {
   "cell_type": "code",
   "execution_count": 11,
   "metadata": {},
   "outputs": [
    {
     "data": {
      "text/plain": [
       "[['QuantileRollingWindows', 'RMSClosest', 3.052133012230844e-08],\n",
       " ['QuantileRollingWindows', 'LinearInterpolation', 1.548027528452534e-07],\n",
       " ['QuantileRollingWindows', 'EqualQuantileWalk', 9.291247398054141e-08],\n",
       " ['RMSClosest', 'LinearInterpolation', 4.229397360535864e-11],\n",
       " ['RMSClosest', 'EqualQuantileWalk', 6.597777415431516e-09],\n",
       " ['LinearInterpolation', 'EqualQuantileWalk', 0.6119262485421693]]"
      ]
     },
     "execution_count": 11,
     "metadata": {},
     "output_type": "execute_result"
    }
   ],
   "source": [
    "results_all"
   ]
  },
  {
   "cell_type": "code",
   "execution_count": 12,
   "metadata": {},
   "outputs": [
    {
     "data": {
      "text/plain": [
       "[['QuantileRollingWindows', 'RMSClosest', 0.00010381623682828899],\n",
       " ['QuantileRollingWindows', 'LinearInterpolation', 0.0002669872373789759],\n",
       " ['QuantileRollingWindows', 'EqualQuantileWalk', 0.00050529920779666],\n",
       " ['RMSClosest', 'LinearInterpolation', 5.8372493316099816e-06],\n",
       " ['RMSClosest', 'EqualQuantileWalk', 0.00013815528403625854],\n",
       " ['LinearInterpolation', 'EqualQuantileWalk', 0.5171572129869282]]"
      ]
     },
     "execution_count": 12,
     "metadata": {},
     "output_type": "execute_result"
    }
   ],
   "source": [
    "results_CH4"
   ]
  },
  {
   "cell_type": "code",
   "execution_count": 13,
   "metadata": {},
   "outputs": [
    {
     "data": {
      "text/plain": [
       "[['QuantileRollingWindows', 'RMSClosest', 2.9589595165785068e-05],\n",
       " ['QuantileRollingWindows', 'LinearInterpolation', 0.0002751529198166419],\n",
       " ['QuantileRollingWindows', 'EqualQuantileWalk', 0.00011145561087452433],\n",
       " ['RMSClosest', 'LinearInterpolation', 5.71229517722896e-06],\n",
       " ['RMSClosest', 'EqualQuantileWalk', 1.709964278032949e-05],\n",
       " ['LinearInterpolation', 'EqualQuantileWalk', 0.9896697093945697]]"
      ]
     },
     "execution_count": 13,
     "metadata": {},
     "output_type": "execute_result"
    }
   ],
   "source": [
    "results_CO2"
   ]
  },
  {
   "cell_type": "code",
   "execution_count": 14,
   "metadata": {},
   "outputs": [
    {
     "data": {
      "text/plain": [
       "QuantileRollingWindows    0.129873\n",
       "RMSClosest                0.107978\n",
       "LinearInterpolation       0.156271\n",
       "EqualQuantileWalk         0.157880\n",
       "dtype: float64"
      ]
     },
     "execution_count": 14,
     "metadata": {},
     "output_type": "execute_result"
    }
   ],
   "source": [
    "all_results.mean()"
   ]
  }
 ],
 "metadata": {
  "kernelspec": {
   "display_name": "Python 3",
   "language": "python",
   "name": "python3"
  },
  "language_info": {
   "codemirror_mode": {
    "name": "ipython",
    "version": 3
   },
   "file_extension": ".py",
   "mimetype": "text/x-python",
   "name": "python",
   "nbconvert_exporter": "python",
   "pygments_lexer": "ipython3",
   "version": "3.7.7"
  }
 },
 "nbformat": 4,
 "nbformat_minor": 4
}
